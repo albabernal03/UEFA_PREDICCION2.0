{
 "cells": [
  {
   "cell_type": "markdown",
   "metadata": {},
   "source": [
    "# Aprendizaje no supervisado"
   ]
  },
  {
   "cell_type": "code",
   "execution_count": null,
   "metadata": {},
   "outputs": [
    {
     "ename": "",
     "evalue": "",
     "output_type": "error",
     "traceback": [
      "\u001b[1;31mThe kernel failed to start as the Python Environment 'base (Python 3.11.5)' is no longer available. Consider selecting another kernel or refreshing the list of Python Environments."
     ]
    }
   ],
   "source": [
    "import pandas as pd\n",
    "\n",
    "# Cargar los datos proporcionados por el usuario\n",
    "overall_path = '../../data/overall_limpio.csv'\n",
    "jugadores_path = '../../data/jugadores_limpio.csv'\n",
    "\n",
    "# Leer los archivos CSV\n",
    "overall_df = pd.read_csv(overall_path)\n",
    "jugadores_df = pd.read_csv(jugadores_path)\n",
    "\n",
    "# Mostrar las primeras filas de cada dataframe para entender su estructura\n",
    "(overall_df.head(), jugadores_df.head())"
   ]
  },
  {
   "cell_type": "code",
   "execution_count": null,
   "metadata": {},
   "outputs": [
    {
     "ename": "",
     "evalue": "",
     "output_type": "error",
     "traceback": [
      "\u001b[1;31mThe kernel failed to start as the Python Environment 'base (Python 3.11.5)' is no longer available. Consider selecting another kernel or refreshing the list of Python Environments."
     ]
    }
   ],
   "source": [
    "from sklearn.preprocessing import StandardScaler\n",
    "from sklearn.cluster import KMeans\n",
    "import matplotlib.pyplot as plt\n",
    "import seaborn as sns\n",
    "\n",
    "# Seleccionar columnas numéricas relevantes para el clustering\n",
    "columns_to_cluster = ['MP', 'W', 'D', 'L', 'GF', 'GA', 'GD', 'Pts']\n",
    "\n",
    "# Extraer las columnas relevantes\n",
    "data_to_cluster = overall_df[columns_to_cluster]\n",
    "\n",
    "# Normalizar los datos\n",
    "scaler = StandardScaler()\n",
    "data_normalized = scaler.fit_transform(data_to_cluster)\n",
    "\n",
    "# Aplicar KMeans para agrupar los equipos en 3 clusters\n",
    "n_clusters = 3\n",
    "kmeans = KMeans(n_clusters=n_clusters, random_state=42)\n",
    "kmeans.fit(data_normalized)\n",
    "\n",
    "# Añadir la asignación de clusters al dataframe original para análisis posterior\n",
    "overall_df['Cluster'] = kmeans.labels_\n",
    "\n",
    "# Visualizar los clusters utilizando PCA para reducir la dimensionalidad a 2D y facilitar la visualización\n",
    "from sklearn.decomposition import PCA\n",
    "\n",
    "pca = PCA(n_components=2)\n",
    "principalComponents = pca.fit_transform(data_normalized)\n",
    "\n",
    "# Añadir los componentes principales al dataframe para la visualización\n",
    "overall_df['Principal Component 1'] = principalComponents[:,0]\n",
    "overall_df['Principal Component 2'] = principalComponents[:,1]\n",
    "\n",
    "# Gráfica de los clusters\n",
    "plt.figure(figsize=(10, 8))\n",
    "sns.scatterplot(data=overall_df, x='Principal Component 1', y='Principal Component 2', hue='Cluster', palette='viridis', s=100, alpha=0.7)\n",
    "plt.title('Clustering de Equipos de la Champions League')\n",
    "plt.xlabel('Componente Principal 1')\n",
    "plt.ylabel('Componente Principal 2')\n",
    "plt.legend(title='Cluster')\n",
    "plt.grid(True)\n",
    "plt.show()\n"
   ]
  },
  {
   "cell_type": "code",
   "execution_count": null,
   "metadata": {},
   "outputs": [
    {
     "ename": "",
     "evalue": "",
     "output_type": "error",
     "traceback": [
      "\u001b[1;31mThe kernel failed to start as the Python Environment 'base (Python 3.11.5)' is no longer available. Consider selecting another kernel or refreshing the list of Python Environments."
     ]
    }
   ],
   "source": [
    "# Crear un resumen de los equipos por cluster\n",
    "clusters_summary = overall_df.groupby('Cluster')['Squad'].apply(list).reset_index()\n",
    "\n",
    "# Calcular estadísticas descriptivas por cluster para entender las diferencias entre ellos\n",
    "clusters_stats = overall_df.groupby('Cluster')[columns_to_cluster].mean().reset_index()\n",
    "\n",
    "# Mostrar el resumen de equipos por cluster y las estadísticas descriptivas\n",
    "clusters_summary, clusters_stats\n"
   ]
  },
  {
   "cell_type": "markdown",
   "metadata": {},
   "source": [
    "\n",
    "Basándonos en la información proporcionada, hemos identificado tres clusters distintos de equipos que participaron en la Champions League, cada uno con características únicas según su rendimiento. \n",
    "\n",
    "### Cluster 0\n",
    "\n",
    "* **Características Generales:** Este cluster agrupa a equipos con el menor rendimiento en general, con un promedio de partidos jugados, victorias, y puntos significativamente más bajos que los otros grupos. Además, estos equipos tienen una diferencia de goles negativa notable, indicando que han recibido más goles de los que han anotado.\n",
    "\n",
    "* **Equipos Ejemplo:** Eint Frankfurt, Ajax, Dinamo Zagreb, Juventus, entre otros. Estos equipos han tenido un desempeño menos favorable en la competición.\n",
    "\n",
    "### Cluster 1\n",
    "\n",
    "* **Características Generales:** Representa a los equipos con el mejor desempeño. Tienen el mayor número de partidos jugados, victorias, y puntos. Además, la diferencia de goles es positivamente alta, lo que indica un fuerte desempeño ofensivo y defensivo.\n",
    "\n",
    "* **Equipos Ejemplo:** Manchester City, Inter, Real Madrid, Milan, Bayern Munich, entre otros. Estos son los equipos más exitosos en el dataset, mostrando un fuerte desempeño que los coloca como potenciales favoritos para ganar el torneo.\n",
    "\n",
    "### Cluster 2\n",
    "\n",
    "* **Características Generales:** Este grupo está en un punto intermedio entre los otros dos clusters. Mientras que tienen un mejor rendimiento que los equipos del Cluster 0, no alcanzan los altos estándares del Cluster 1. La diferencia de goles es marginalmente positiva, indicando un equilibrio más ajustado entre goles a favor y en contra.\n",
    "\n",
    "* **Equipos Ejemplo:** Chelsea, Liverpool, Paris S-G, Porto, RB Leipzig, entre otros. Aunque estos equipos han mostrado capacidades competitivas, sus estadísticas indican que tienen áreas de mejora para alcanzar el nivel más alto de desempeño en la competición."
   ]
  },
  {
   "cell_type": "markdown",
   "metadata": {},
   "source": [
    "explicar que hacer aqui"
   ]
  },
  {
   "cell_type": "code",
   "execution_count": null,
   "metadata": {},
   "outputs": [
    {
     "ename": "",
     "evalue": "",
     "output_type": "error",
     "traceback": [
      "\u001b[1;31mThe kernel failed to start as the Python Environment 'base (Python 3.11.5)' is no longer available. Consider selecting another kernel or refreshing the list of Python Environments."
     ]
    }
   ],
   "source": [
    "from sklearn.metrics import silhouette_score\n",
    "import numpy as np\n",
    "\n",
    "# Determinar el rango de números de clusters a evaluar\n",
    "range_n_clusters = range(2, 11)\n",
    "\n",
    "# Listas para almacenar los resultados de la suma de cuadrados dentro del cluster (inertia) y el coeficiente de silueta\n",
    "inertias = []\n",
    "silhouette_scores = []\n",
    "\n",
    "for n_clusters in range_n_clusters:\n",
    "    kmeans = KMeans(n_clusters=n_clusters, random_state=42)\n",
    "    kmeans.fit(data_normalized)\n",
    "    inertias.append(kmeans.inertia_)\n",
    "    silhouette_avg = silhouette_score(data_normalized, kmeans.labels_)\n",
    "    silhouette_scores.append(silhouette_avg)\n",
    "\n",
    "# Gráfica del Método del Codo\n",
    "plt.figure(figsize=(14, 6))\n",
    "plt.subplot(1, 2, 1)\n",
    "plt.plot(range_n_clusters, inertias, marker='o', color='b')\n",
    "plt.title('Método del Codo para la Elección del Número de Clusters')\n",
    "plt.xlabel('Número de Clusters')\n",
    "plt.ylabel('Inercia')\n",
    "plt.grid(True)\n",
    "\n",
    "# Gráfica del Coeficiente de Silueta\n",
    "plt.subplot(1, 2, 2)\n",
    "plt.plot(range_n_clusters, silhouette_scores, marker='o', color='r')\n",
    "plt.title('Coeficiente de Silueta por Número de Clusters')\n",
    "plt.xlabel('Número de Clusters')\n",
    "plt.ylabel('Coeficiente de Silueta')\n",
    "plt.grid(True)\n",
    "\n",
    "plt.tight_layout()\n",
    "plt.show()\n"
   ]
  },
  {
   "cell_type": "markdown",
   "metadata": {},
   "source": [
    "Las gráficas muestran dos métricas clave para determinar el número óptimo de clusters:\n",
    "\n",
    "* **Método del Codo:** Observamos cómo disminuye la inercia (suma de las distancias cuadradas dentro de los clusters) a medida que aumenta el número de clusters. Buscamos un punto donde este descenso se estabiliza, indicando un balance entre el número de clusters y la cohesión dentro de ellos. En este caso, parece haber un punto de inflexión alrededor de 4 a 5 clusters, donde el descenso en inercia comienza a disminuir más lentamente.\n",
    "\n",
    "* **Coeficiente de Silueta:** Muestra la calidad de los clusters, donde valores más altos indican que los clusters están bien definidos y separados entre sí. Los valores fluctúan a medida que cambiamos el número de clusters, con picos que sugieren buenos agrupamientos. Los picos notables en este análisis sugieren que alrededor de 2 a 4 clusters podrían proporcionar agrupamientos razonablemente buenos, con el valor más alto alrededor de 2 clusters.\n",
    "\n",
    "Ambas métricas proporcionan una guía para elegir el número de clusters, pero también depende del contexto y el propósito del análisis. Para nuestro caso, donde queremos una división clara que pueda reflejar diferencias significativas en el rendimiento de los equipos, un número de clusters entre 3 y 5 podría ser apropiado, basándonos en el equilibrio entre la inercia y la calidad de los clusters indicada por el coeficiente de silueta."
   ]
  },
  {
   "cell_type": "markdown",
   "metadata": {},
   "source": [
    "Por lo tanto, el número qur elegimos de clusters (3) es correcto"
   ]
  },
  {
   "cell_type": "code",
   "execution_count": null,
   "metadata": {},
   "outputs": [
    {
     "ename": "",
     "evalue": "",
     "output_type": "error",
     "traceback": [
      "\u001b[1;31mThe kernel failed to start as the Python Environment 'base (Python 3.11.5)' is no longer available. Consider selecting another kernel or refreshing the list of Python Environments."
     ]
    }
   ],
   "source": [
    "# Para corregir el problema, vamos a verificar y tratar los valores NaN en las columnas seleccionadas para el clustering.\n",
    "# Luego, intentaremos generar el pairplot nuevamente.\n",
    "\n",
    "# Verificar si hay valores NaN en las columnas seleccionadas\n",
    "nan_check = overall_df[columns_to_cluster].isna().sum()\n",
    "\n",
    "# Si hay valores NaN, los reemplazaremos con la media de cada columna para simplificar\n",
    "# Esta es una aproximación común, aunque la elección de tratamiento de NaNs debe considerar el contexto de los datos\n",
    "if nan_check.sum() > 0:\n",
    "    overall_df.fillna(overall_df.mean(), inplace=True)\n",
    "\n",
    "# Intentar generar el pairplot nuevamente\n",
    "sns.pairplot(overall_df[columns_to_cluster + ['Cluster']], hue='Cluster', palette='viridis', diag_kind='kde', corner=True)\n",
    "plt.suptitle('Pairplot de las Variables con Clusters como Color', y=1.02)\n",
    "plt.show()\n"
   ]
  },
  {
   "cell_type": "code",
   "execution_count": null,
   "metadata": {},
   "outputs": [
    {
     "ename": "",
     "evalue": "",
     "output_type": "error",
     "traceback": [
      "\u001b[1;31mThe kernel failed to start as the Python Environment 'base (Python 3.11.5)' is no longer available. Consider selecting another kernel or refreshing the list of Python Environments."
     ]
    }
   ],
   "source": [
    "# Antes de reintentar el pairplot, verificamos y preprocesamos los datos para asegurarnos de que sean adecuados\n",
    "# Eliminamos filas con valores NaN en las columnas seleccionadas para el clustering\n",
    "cleaned_df = overall_df[columns_to_cluster].dropna()\n",
    "\n",
    "# Ahora intentamos generar el pairplot nuevamente\n",
    "sns.pairplot(cleaned_df, diag_kind='kde', corner=True)\n",
    "plt.suptitle('Pairplot de Variables antes del Escalado', y=1.02)\n",
    "plt.show()\n",
    "\n",
    "# Para visualizar los efectos del escalado, comparamos las distribuciones antes y después del escalado.\n",
    "# Seleccionamos una muestra de columnas para simplificar la visualización\n",
    "sample_columns = ['GF', 'GA']  # Ejemplo con Goles a Favor y Goles en Contra\n",
    "\n",
    "# Visualización de los datos antes del escalado\n",
    "fig, axs = plt.subplots(1, 2, figsize=(12, 5))\n",
    "sns.kdeplot(data=cleaned_df, x='GF', ax=axs[0], color='blue', label='GF - No Escalado')\n",
    "sns.kdeplot(data=cleaned_df, x='GA', ax=axs[0], color='red', label='GA - No Escalado')\n",
    "axs[0].set_title('Distribución de GF y GA antes del Escalado')\n",
    "axs[0].legend()\n",
    "\n",
    "# Visualización de los datos después del escalado\n",
    "scaled_df = pd.DataFrame(data_normalized, columns=columns_to_cluster)\n",
    "sns.kdeplot(data=scaled_df, x='GF', ax=axs[1], color='blue', label='GF - Escalado')\n",
    "sns.kdeplot(data=scaled_df, x='GA', ax=axs[1], color='red', label='GA - Escalado')\n",
    "axs[1].set_title('Distribución de GF y GA después del Escalado')\n",
    "axs[1].legend()\n",
    "\n",
    "plt.tight_layout()\n",
    "plt.show()\n"
   ]
  },
  {
   "cell_type": "code",
   "execution_count": null,
   "metadata": {},
   "outputs": [
    {
     "ename": "",
     "evalue": "",
     "output_type": "error",
     "traceback": [
      "\u001b[1;31mThe kernel failed to start as the Python Environment 'base (Python 3.11.5)' is no longer available. Consider selecting another kernel or refreshing the list of Python Environments."
     ]
    }
   ],
   "source": [
    "\n",
    "\n",
    "# Para graficar la distribución de los valores originales y estandarizados, seleccionaremos todas las columnas\n",
    "# que se utilizaron para el clustering. Luego, se crearán gráficos para cada columna comparando sus valores\n",
    "# originales con los estandarizados.\n",
    "\n",
    "# Crearemos una figura con subplots para visualizar las distribuciones\n",
    "num_columns = len(columns_to_cluster)\n",
    "fig, axs = plt.subplots(num_columns, 2, figsize=(12, num_columns * 3))\n",
    "\n",
    "for i, col in enumerate(columns_to_cluster):\n",
    "    # Graficar la distribución de los valores originales\n",
    "    sns.histplot(cleaned_df[col], kde=True, ax=axs[i, 0], color='skyblue', bins=30)\n",
    "    axs[i, 0].set_title(f'Distribución Original: {col}')\n",
    "    \n",
    "    # Graficar la distribución de los valores estandarizados\n",
    "    sns.histplot(scaled_df[col], kde=True, ax=axs[i, 1], color='salmon', bins=30)\n",
    "    axs[i, 1].set_title(f'Distribución Estandarizada: {col}')\n",
    "    \n",
    "# Ajustar el layout para evitar superposiciones\n",
    "plt.tight_layout()\n",
    "plt.show()\n"
   ]
  },
  {
   "cell_type": "code",
   "execution_count": null,
   "metadata": {},
   "outputs": [
    {
     "ename": "",
     "evalue": "",
     "output_type": "error",
     "traceback": [
      "\u001b[1;31mThe kernel failed to start as the Python Environment 'base (Python 3.11.5)' is no longer available. Consider selecting another kernel or refreshing the list of Python Environments."
     ]
    }
   ],
   "source": [
    "# Para graficar diagramas de cajas de los valores originales y estandarizados, seleccionaremos todas las columnas\n",
    "# que se utilizaron para el clustering. Luego, se crearán gráficos para cada columna comparando sus valores\n",
    "# originales con los estandarizados.\n",
    "\n",
    "# Crearemos una figura con subplots para visualizar las distribuciones en diagramas de caja\n",
    "fig, axs = plt.subplots(2, num_columns, figsize=(15, 10), constrained_layout=True)\n",
    "\n",
    "for i, col in enumerate(columns_to_cluster):\n",
    "    # Diagrama de cajas para los valores originales\n",
    "    sns.boxplot(data=cleaned_df, y=col, ax=axs[0, i], color='lightblue')\n",
    "    axs[0, i].set_title(f'Original: {col}')\n",
    "    axs[0, i].set(xlabel=None)\n",
    "    \n",
    "    # Diagrama de cajas para los valores estandarizados\n",
    "    sns.boxplot(data=scaled_df, y=col, ax=axs[1, i], color='lightgreen')\n",
    "    axs[1, i].set_title(f'Estandarizado: {col}')\n",
    "    axs[1, i].set(xlabel=None)\n",
    "\n",
    "# Ajustar los títulos de los ejes y la figura general\n",
    "axs[0, 0].set(ylabel='Valores Originales')\n",
    "axs[1, 0].set(ylabel='Valores Estandarizados')\n",
    "plt.suptitle('Diagramas de Cajas de Variables Originales y Estandarizadas')\n",
    "plt.show()\n"
   ]
  },
  {
   "cell_type": "code",
   "execution_count": null,
   "metadata": {},
   "outputs": [
    {
     "ename": "",
     "evalue": "",
     "output_type": "error",
     "traceback": [
      "\u001b[1;31mThe kernel failed to start as the Python Environment 'base (Python 3.11.5)' is no longer available. Consider selecting another kernel or refreshing the list of Python Environments."
     ]
    }
   ],
   "source": [
    "# Corregir el enfoque para generar los diagramas de caja de manera que se eviten errores previos\n",
    "# Separar en dos figuras para simplificar la visualización y asegurar que el proceso funcione correctamente\n",
    "\n",
    "# Diagramas de caja para los valores originales\n",
    "plt.figure(figsize=(15, 10))\n",
    "sns.boxplot(data=overall_df[columns_to_cluster], orient=\"h\", palette=\"Set2\")\n",
    "plt.title('Valores Originales')\n",
    "plt.tight_layout()\n",
    "plt.show()\n",
    "\n",
    "# Diagramas de caja para los valores estandarizados\n",
    "plt.figure(figsize=(15, 10))\n",
    "sns.boxplot(data=pd.DataFrame(data_normalized, columns=columns_to_cluster), orient=\"h\", palette=\"Set2\")\n",
    "plt.title('Valores Estandarizados')\n",
    "plt.tight_layout()\n",
    "plt.show()\n"
   ]
  }
 ],
 "metadata": {
  "kernelspec": {
   "display_name": "base",
   "language": "python",
   "name": "python3"
  },
  "language_info": {
   "codemirror_mode": {
    "name": "ipython",
    "version": 3
   },
   "file_extension": ".py",
   "mimetype": "text/x-python",
   "name": "python",
   "nbconvert_exporter": "python",
   "pygments_lexer": "ipython3",
   "version": "3.11.5"
  }
 },
 "nbformat": 4,
 "nbformat_minor": 2
}
