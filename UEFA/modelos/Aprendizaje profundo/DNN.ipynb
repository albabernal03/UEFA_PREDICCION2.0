{
 "cells": [
  {
   "cell_type": "markdown",
   "metadata": {},
   "source": [
    "# DNN"
   ]
  },
  {
   "cell_type": "markdown",
   "metadata": {},
   "source": [
    "#### Preprocesamiento de las imagenes"
   ]
  },
  {
   "cell_type": "markdown",
   "metadata": {},
   "source": [
    "##### Convertimos el formato de la imagen a jpg para trabajar con ellas\n"
   ]
  },
  {
   "cell_type": "code",
   "execution_count": 13,
   "metadata": {},
   "outputs": [
    {
     "data": {
      "text/plain": [
       "(['ac-milan',\n",
       "  'ajax',\n",
       "  'atalanta',\n",
       "  'atletico-madrid',\n",
       "  'barcelona',\n",
       "  'bayern-munchen',\n",
       "  'benfica',\n",
       "  'besiktas',\n",
       "  'chelsea',\n",
       "  'club-brugge',\n",
       "  'dynamo-kiyv',\n",
       "  'fc-porto',\n",
       "  'internazionale-milano',\n",
       "  'juventus',\n",
       "  'liverpool',\n",
       "  'losc-lille',\n",
       "  'malmo-ff',\n",
       "  'manchester-city',\n",
       "  'manchester-united',\n",
       "  'paris-saint-germain-f-c',\n",
       "  'rb-leipzig',\n",
       "  'real-madrid',\n",
       "  'redbull-salzburg',\n",
       "  'sevilla',\n",
       "  'shakhtar-donetsk',\n",
       "  'sheriff-tiraspol',\n",
       "  'sporting-cp',\n",
       "  'villareal',\n",
       "  'wolfsburg',\n",
       "  'youngboys',\n",
       "  'zenit'],\n",
       " (128, 128, 3))"
      ]
     },
     "execution_count": 13,
     "metadata": {},
     "output_type": "execute_result"
    },
    {
     "ename": "",
     "evalue": "",
     "output_type": "error",
     "traceback": [
      "\u001b[1;31mThe Kernel crashed while executing code in the current cell or a previous cell. \n",
      "\u001b[1;31mPlease review the code in the cell(s) to identify a possible cause of the failure. \n",
      "\u001b[1;31mClick <a href='https://aka.ms/vscodeJupyterKernelCrash'>here</a> for more info. \n",
      "\u001b[1;31mView Jupyter <a href='command:jupyter.viewOutput'>log</a> for further details."
     ]
    }
   ],
   "source": [
    "from cairosvg import svg2png\n",
    "from PIL import Image\n",
    "import numpy as np\n",
    "import io\n",
    "import os\n",
    "\n",
    "def convert_svg_to_png(folder_path, output_size=(128, 128)):\n",
    "    images = {}\n",
    "    svg_files = [f for f in os.listdir(folder_path) if f.endswith('.svg')]\n",
    "    \n",
    "    for svg_file in svg_files:\n",
    "        # Convert SVG to PNG\n",
    "        svg_input_path = os.path.join(folder_path, svg_file)\n",
    "        png_output = svg2png(url=svg_input_path)\n",
    "        \n",
    "        # Load PNG into PIL Image and resize\n",
    "        image = Image.open(io.BytesIO(png_output)).convert('RGB')\n",
    "        image = image.resize(output_size)\n",
    "        \n",
    "        # Store in dict with the filename as key\n",
    "        images[svg_file.split('.')[0]] = np.array(image)\n",
    "    \n",
    "    return images\n",
    "extract_folder='../../logos'\n",
    "# Convert all SVG images and save as numpy arrays\n",
    "converted_images = convert_svg_to_png(extract_folder)\n",
    "list(converted_images.keys()), list(converted_images.values())[0].shape  # Display first 5 keys and shape of one image\n"
   ]
  }
 ],
 "metadata": {
  "kernelspec": {
   "display_name": "Python 3",
   "language": "python",
   "name": "python3"
  },
  "language_info": {
   "codemirror_mode": {
    "name": "ipython",
    "version": 3
   },
   "file_extension": ".py",
   "mimetype": "text/x-python",
   "name": "python",
   "nbconvert_exporter": "python",
   "pygments_lexer": "ipython3",
   "version": "3.11.5"
  }
 },
 "nbformat": 4,
 "nbformat_minor": 2
}
