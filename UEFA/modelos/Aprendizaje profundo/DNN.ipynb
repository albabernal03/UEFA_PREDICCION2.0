{
 "cells": [
  {
   "cell_type": "markdown",
   "metadata": {},
   "source": [
    "# DNN"
   ]
  },
  {
   "cell_type": "markdown",
   "metadata": {},
   "source": [
    "#### Preprocesamiento de las imagenes"
   ]
  },
  {
   "cell_type": "markdown",
   "metadata": {},
   "source": [
    "##### Convertimos el formato de la imagen a jpg para trabajar con ellas\n"
   ]
  },
  {
   "cell_type": "code",
   "execution_count": 10,
   "metadata": {},
   "outputs": [
    {
     "data": {
      "text/plain": [
       "(['ac-milan', 'ajax', 'atalanta', 'atletico-madrid', 'barcelona'],\n",
       " (128, 128, 3))"
      ]
     },
     "execution_count": 10,
     "metadata": {},
     "output_type": "execute_result"
    }
   ],
   "source": [
    "from cairosvg import svg2png\n",
    "from PIL import Image\n",
    "import numpy as np\n",
    "import io\n",
    "import os\n",
    "\n",
    "def convert_svg_to_png(folder_path, output_size=(128, 128)):\n",
    "    images = {}\n",
    "    svg_files = [f for f in os.listdir(folder_path) if f.endswith('.svg')]\n",
    "    \n",
    "    for svg_file in svg_files:\n",
    "        # Convert SVG to PNG\n",
    "        svg_input_path = os.path.join(folder_path, svg_file)\n",
    "        png_output = svg2png(url=svg_input_path)\n",
    "        \n",
    "        # Load PNG into PIL Image and resize\n",
    "        image = Image.open(io.BytesIO(png_output)).convert('RGB')\n",
    "        image = image.resize(output_size)\n",
    "        \n",
    "        # Store in dict with the filename as key\n",
    "        images[svg_file.split('.')[0]] = np.array(image)\n",
    "    \n",
    "    return images\n",
    "extract_folder='../../logos'\n",
    "# Convert all SVG images and save as numpy arrays\n",
    "converted_images = convert_svg_to_png(extract_folder)\n",
    "list(converted_images.keys()), list(converted_images.values())[0].shape  # Display first 5 keys and shape of one image\n"
   ]
  }
 ],
 "metadata": {
  "kernelspec": {
   "display_name": "Python 3",
   "language": "python",
   "name": "python3"
  },
  "language_info": {
   "codemirror_mode": {
    "name": "ipython",
    "version": 3
   },
   "file_extension": ".py",
   "mimetype": "text/x-python",
   "name": "python",
   "nbconvert_exporter": "python",
   "pygments_lexer": "ipython3",
   "version": "3.11.5"
  }
 },
 "nbformat": 4,
 "nbformat_minor": 2
}
