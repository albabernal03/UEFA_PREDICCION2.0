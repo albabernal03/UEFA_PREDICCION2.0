{
 "cells": [
  {
   "cell_type": "markdown",
   "metadata": {},
   "source": [
    "#   DNN"
   ]
  },
  {
   "cell_type": "markdown",
   "metadata": {},
   "source": [
    "#### 1. configurar y cargar datos"
   ]
  },
  {
   "cell_type": "code",
   "execution_count": 2,
   "metadata": {},
   "outputs": [
    {
     "name": "stdout",
     "output_type": "stream",
     "text": [
      "WARNING:tensorflow:From c:\\Users\\albab\\anaconda3\\Lib\\site-packages\\keras\\src\\losses.py:2976: The name tf.losses.sparse_softmax_cross_entropy is deprecated. Please use tf.compat.v1.losses.sparse_softmax_cross_entropy instead.\n",
      "\n"
     ]
    },
    {
     "name": "stderr",
     "output_type": "stream",
     "text": [
      "c:\\Users\\albab\\anaconda3\\Lib\\site-packages\\pandas\\core\\arrays\\masked.py:60: UserWarning: Pandas requires version '1.3.6' or newer of 'bottleneck' (version '1.3.5' currently installed).\n",
      "  from pandas.core import (\n"
     ]
    }
   ],
   "source": [
    "import tensorflow as tf\n",
    "import os "
   ]
  },
  {
   "cell_type": "code",
   "execution_count": 3,
   "metadata": {},
   "outputs": [
    {
     "data": {
      "text/plain": [
       "['ac_milan_logo',\n",
       " 'arsenal_logo',\n",
       " 'atletico_madrid_logo',\n",
       " 'barca_logo',\n",
       " 'bayern_munich_logo',\n",
       " 'benfica_logo',\n",
       " 'borrusia_dormunt_logo',\n",
       " 'braga_logo',\n",
       " 'celtic_logo',\n",
       " 'copenhagen_logo',\n",
       " 'crvena_zvezda_logo',\n",
       " 'feyenoord_logo',\n",
       " 'galatasaray_logo',\n",
       " 'inter_milan_logo',\n",
       " 'lazio_logo',\n",
       " 'lens_logo',\n",
       " 'manchester_city_logo',\n",
       " 'manchester_united_logo',\n",
       " 'napoli_logo',\n",
       " 'newcastle_united_logo',\n",
       " 'paris_logo',\n",
       " 'porto_logo',\n",
       " 'psv_eindhoven_logo',\n",
       " 'rb_leipzig_logo',\n",
       " 'real_madrid_logo',\n",
       " 'real_sociedad_logo',\n",
       " 'red_bull_salzburg_logo',\n",
       " 'royal_antwerp_logo',\n",
       " 'sevilla_logo',\n",
       " 'shakhtar_donetsk_logo',\n",
       " 'union_berlin_logo',\n",
       " 'young _boys_logo']"
      ]
     },
     "execution_count": 3,
     "metadata": {},
     "output_type": "execute_result"
    }
   ],
   "source": [
    "os.listdir('../../images')"
   ]
  },
  {
   "cell_type": "markdown",
   "metadata": {},
   "source": [
    "#### 2. Cargamos los datos"
   ]
  }
 ],
 "metadata": {
  "kernelspec": {
   "display_name": "base",
   "language": "python",
   "name": "python3"
  },
  "language_info": {
   "codemirror_mode": {
    "name": "ipython",
    "version": 3
   },
   "file_extension": ".py",
   "mimetype": "text/x-python",
   "name": "python",
   "nbconvert_exporter": "python",
   "pygments_lexer": "ipython3",
   "version": "3.11.5"
  }
 },
 "nbformat": 4,
 "nbformat_minor": 2
}
