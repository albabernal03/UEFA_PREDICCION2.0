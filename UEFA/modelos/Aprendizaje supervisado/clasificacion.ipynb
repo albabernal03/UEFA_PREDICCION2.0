{
 "cells": [
  {
   "cell_type": "markdown",
   "metadata": {},
   "source": [
    "# Regresión logística"
   ]
  },
  {
   "cell_type": "code",
   "execution_count": 1,
   "metadata": {
    "tags": [
     "parameters"
    ]
   },
   "outputs": [
    {
     "name": "stderr",
     "output_type": "stream",
     "text": [
      "c:\\Users\\albab\\anaconda3\\Lib\\site-packages\\pandas\\core\\arrays\\masked.py:60: UserWarning: Pandas requires version '1.3.6' or newer of 'bottleneck' (version '1.3.5' currently installed).\n",
      "  from pandas.core import (\n"
     ]
    },
    {
     "data": {
      "text/plain": [
       "(   Temporada  #            Jugador        País   Posc           Equipo  Edad  \\\n",
       " 0  2017-2018  1  Vincent Aboubakar     Camerún     DL            Porto  25.0   \n",
       " 1  2017-2018  2       Marcos Acuña   Argentina  DL,DF      Sporting CP  25.0   \n",
       " 2  2017-2018  3   Tosin Adarabioyo  Inglaterra     DF  Manchester City  19.0   \n",
       " 3  2017-2018  4            Adriano      Brasil     DF         Beşiktaş  32.0   \n",
       " 4  2017-2018  5       Luiz Adriano      Brasil  DL,CC   Spartak Moscow  30.0   \n",
       " \n",
       "    Nacimiento  PJ  Titular  ...  Gls90.  Ast90  G+A90  G-TP90  G+A-TP90  xG90  \\\n",
       " 0      1992.0   6      6.0  ...    0.91   0.36   1.27    0.91      1.27  0.51   \n",
       " 1      1991.0   5      5.0  ...    0.00   0.21   0.21    0.00      0.21  0.00   \n",
       " 2      1997.0   2      1.0  ...    0.00   0.00   0.00    0.00      0.00  0.00   \n",
       " 3      1984.0   6      5.0  ...    0.00   0.00   0.00    0.00      0.00  0.01   \n",
       " 4      1987.0   6      6.0  ...    0.17   0.00   0.17    0.17      0.17  0.16   \n",
       " \n",
       "    xAG90  xG+xAG90  npxG90  npxG+xAG90  \n",
       " 0   0.19      0.70    0.51        0.70  \n",
       " 1   0.11      0.11    0.00        0.11  \n",
       " 2   0.00      0.00    0.00        0.00  \n",
       " 3   0.02      0.03    0.01        0.03  \n",
       " 4   0.15      0.32    0.16        0.32  \n",
       " \n",
       " [5 rows x 37 columns],\n",
       "       Season  Rk            Squad    MP    W    D    L    GF    GA    GD  \\\n",
       " 0  2022-2023   W  Manchester City  13.0  8.0  5.0  0.0  32.0   5.0  27.0   \n",
       " 1  2022-2023   F            Inter  13.0  7.0  3.0  3.0  19.0  11.0   8.0   \n",
       " 2  2022-2023  SF      Real Madrid  12.0  8.0  2.0  2.0  26.0  13.0  13.0   \n",
       " 3  2022-2023  SF            Milan  12.0  5.0  3.0  4.0  15.0  11.0   4.0   \n",
       " 4  2022-2023  QF    Bayern Munich  10.0  8.0  1.0  1.0  22.0   6.0  16.0   \n",
       " \n",
       "     Pts  Attendance                      Top Team Scorer        Goalkeeper  \\\n",
       " 0  29.0     63639.0                       Erling Haaland           Ederson   \n",
       " 1  24.0     71415.0                           Edin Džeko       André Onana   \n",
       " 2  26.0     58761.0                      Vinicius Júnior  Thibaut Courtois   \n",
       " 3  18.0     72546.0                       Olivier Giroud      Mike Maignan   \n",
       " 4  25.0     75000.0  Leroy Sané,Eric Maxim Choupo-Moting       Yann Sommer   \n",
       " \n",
       "    Top Team Scorer Goals  Country  \n",
       " 0                   12.0  England  \n",
       " 1                    4.0    Italy  \n",
       " 2                    7.0    Spain  \n",
       " 3                    5.0    Italy  \n",
       " 4                    4.0  Germany  )"
      ]
     },
     "execution_count": 1,
     "metadata": {},
     "output_type": "execute_result"
    }
   ],
   "source": [
    "import pandas as pd\n",
    "\n",
    "# Cargar los datos\n",
    "# rutas_datos: Diccionario con las rutas de los archivos de datos\n",
    "rutas_datos = {\n",
    "    \"jugadores_df\": '../../data/jugadores_limpio.csv',\n",
    "    \"overall_df\": '../../data/overall_limpio.csv'\n",
    "}\n",
    "\n",
    "jugadores_df = pd.read_csv(rutas_datos[\"jugadores_df\"])\n",
    "overall_df = pd.read_csv(rutas_datos[\"overall_df\"])\n",
    "\n",
    "jugadores_df = pd.read_csv('../../data/jugadores_limpio.csv')\n",
    "overall_df = pd.read_csv('../../data/overall_limpio.csv')\n",
    "\n",
    "# Visualizar las primeras filas de cada DataFrame para entender su estructura\n",
    "jugadores_df_head = jugadores_df.head()\n",
    "overall_df_head = overall_df.head()\n",
    "\n",
    "jugadores_df_head, overall_df_head"
   ]
  },
  {
   "cell_type": "code",
   "execution_count": 2,
   "metadata": {},
   "outputs": [
    {
     "data": {
      "text/plain": [
       "(      Season            Squad    MP    W    D    L    GF    GA    GD   Pts  \\\n",
       " 0  2022-2023  Manchester City  13.0  8.0  5.0  0.0  32.0   5.0  27.0  29.0   \n",
       " 1  2022-2023            Inter  13.0  7.0  3.0  3.0  19.0  11.0   8.0  24.0   \n",
       " 2  2022-2023      Real Madrid  12.0  8.0  2.0  2.0  26.0  13.0  13.0  26.0   \n",
       " 3  2022-2023            Milan  12.0  5.0  3.0  4.0  15.0  11.0   4.0  18.0   \n",
       " 4  2022-2023    Bayern Munich  10.0  8.0  1.0  1.0  22.0   6.0  16.0  25.0   \n",
       " \n",
       "    Reached_Final  \n",
       " 0              1  \n",
       " 1              1  \n",
       " 2              0  \n",
       " 3              0  \n",
       " 4              0  ,\n",
       " MP               0\n",
       " W                0\n",
       " D                0\n",
       " L                0\n",
       " GF               0\n",
       " GA               0\n",
       " GD               0\n",
       " Pts              0\n",
       " Reached_Final    0\n",
       " dtype: int64)"
      ]
     },
     "execution_count": 2,
     "metadata": {},
     "output_type": "execute_result"
    }
   ],
   "source": [
    "# Paso 1: Preprocesamiento de Datos\n",
    "\n",
    "# Convertir la columna de la fase alcanzada en una variable objetivo binaria\n",
    "# Consideramos \"W\" y \"F\" como alcanzar la final (1), y cualquier otro resultado como 0.\n",
    "overall_df['Reached_Final'] = overall_df['Rk'].apply(lambda x: 1 if x in ['W', 'F'] else 0)\n",
    "\n",
    "# Seleccionar características relevantes para el modelo\n",
    "features = ['MP', 'W', 'D', 'L', 'GF', 'GA', 'GD', 'Pts']\n",
    "target = 'Reached_Final'\n",
    "\n",
    "# Verificamos si hay valores faltantes en las características seleccionadas y en la variable objetivo\n",
    "missing_values = overall_df[features + [target]].isnull().sum()\n",
    "\n",
    "# Visualizar el resultado de la transformación y los valores faltantes\n",
    "overall_df[['Season', 'Squad'] + features + [target]].head(), missing_values\n"
   ]
  },
  {
   "cell_type": "code",
   "execution_count": 3,
   "metadata": {},
   "outputs": [
    {
     "name": "stdout",
     "output_type": "stream",
     "text": [
      "accuracy: 0.9635416666666666\n",
      "conf_matrix: [[179   3]\n",
      " [  4   6]]\n",
      "roc_auc: 0.9807692307692307\n"
     ]
    }
   ],
   "source": [
    "from sklearn.model_selection import train_test_split\n",
    "from sklearn.linear_model import LogisticRegression\n",
    "from sklearn.metrics import accuracy_score, confusion_matrix, roc_auc_score\n",
    "\n",
    "# Dividir los datos en conjuntos de entrenamiento y prueba\n",
    "X_train, X_test, y_train, y_test = train_test_split(overall_df[features], overall_df[target], test_size=0.3, random_state=42)\n",
    "\n",
    "# Entrenar el modelo de regresión logística\n",
    "model = LogisticRegression(max_iter=1000)\n",
    "model.fit(X_train, y_train)\n",
    "\n",
    "# Realizar predicciones sobre el conjunto de prueba\n",
    "y_pred = model.predict(X_test)\n",
    "y_pred_proba = model.predict_proba(X_test)[:, 1] # Probabilidades de la clase positiva\n",
    "\n",
    "# Evaluar el modelo\n",
    "accuracy = accuracy_score(y_test, y_pred)\n",
    "conf_matrix = confusion_matrix(y_test, y_pred)\n",
    "roc_auc = roc_auc_score(y_test, y_pred_proba)\n",
    "\n",
    "#Lo mostramos\n",
    "print(f'accuracy: {accuracy}')\n",
    "print(f'conf_matrix: {conf_matrix}')\n",
    "print(f'roc_auc: {roc_auc}')"
   ]
  },
  {
   "cell_type": "markdown",
   "metadata": {},
   "source": [
    "**Precisión:** 96.35%, lo que indica que el modelo es bastante preciso en la clasificación de los equipos según si alcanzaron la final o no."
   ]
  },
  {
   "cell_type": "code",
   "execution_count": 4,
   "metadata": {},
   "outputs": [
    {
     "data": {
      "image/png": "[encoded data removed]",
      "text/plain": [
       "<Figure size 800x600 with 2 Axes>"
      ]
     },
     "metadata": {},
     "output_type": "display_data"
    }
   ],
   "source": [
    "import matplotlib.pyplot as plt\n",
    "import seaborn as sns\n",
    "\n",
    "# Graficar la matriz de confusión\n",
    "fig, ax = plt.subplots(figsize=(8, 6))\n",
    "sns.heatmap(conf_matrix, annot=True, fmt=\"d\", cmap=\"Greens\", ax=ax)\n",
    "ax.set_xlabel('Predicción')\n",
    "ax.set_ylabel('Verdadero')\n",
    "ax.set_title('Matriz de Confusión')\n",
    "plt.show()"
   ]
  },
  {
   "cell_type": "markdown",
   "metadata": {},
   "source": [
    "Matriz de Confusión:\n",
    "\n",
    "* 179 equipos correctamente clasificados como no finalistas.\n",
    "* 6 equipos correctamente clasificados como finalistas.\n",
    "* 3 equipos incorrectamente clasificados como finalistas cuando no lo eran.\n",
    "* 4 equipos incorrectamente clasificados como no finalistas cuando sí alcanzaron la final."
   ]
  },
  {
   "cell_type": "code",
   "execution_count": 5,
   "metadata": {},
   "outputs": [
    {
     "data": {
      "text/html": [
       "<div>\n",
       "<style scoped>\n",
       "    .dataframe tbody tr th:only-of-type {\n",
       "        vertical-align: middle;\n",
       "    }\n",
       "\n",
       "    .dataframe tbody tr th {\n",
       "        vertical-align: top;\n",
       "    }\n",
       "\n",
       "    .dataframe thead th {\n",
       "        text-align: right;\n",
       "    }\n",
       "</style>\n",
       "<table border=\"1\" class=\"dataframe\">\n",
       "  <thead>\n",
       "    <tr style=\"text-align: right;\">\n",
       "      <th></th>\n",
       "      <th>Season</th>\n",
       "      <th>Rk</th>\n",
       "      <th>Squad</th>\n",
       "      <th>MP</th>\n",
       "      <th>W</th>\n",
       "      <th>D</th>\n",
       "      <th>L</th>\n",
       "      <th>GF</th>\n",
       "      <th>GA</th>\n",
       "      <th>GD</th>\n",
       "      <th>Pts</th>\n",
       "      <th>Last 5</th>\n",
       "      <th>Attendance</th>\n",
       "      <th>Top Team Scorer</th>\n",
       "      <th>Goalkeeper</th>\n",
       "      <th>Top Team Scorer Goals</th>\n",
       "      <th>Country</th>\n",
       "    </tr>\n",
       "  </thead>\n",
       "  <tbody>\n",
       "    <tr>\n",
       "      <th>0</th>\n",
       "      <td>2023-2024</td>\n",
       "      <td>SF</td>\n",
       "      <td>Real Madrid</td>\n",
       "      <td>10.0</td>\n",
       "      <td>7.0</td>\n",
       "      <td>3.0</td>\n",
       "      <td>0.0</td>\n",
       "      <td>22.0</td>\n",
       "      <td>12.0</td>\n",
       "      <td>10.0</td>\n",
       "      <td>24.0</td>\n",
       "      <td>WDWDW</td>\n",
       "      <td>72,017</td>\n",
       "      <td>Rodrygo</td>\n",
       "      <td>Andriy Lunin</td>\n",
       "      <td>5</td>\n",
       "      <td>Spain</td>\n",
       "    </tr>\n",
       "    <tr>\n",
       "      <th>1</th>\n",
       "      <td>2023-2024</td>\n",
       "      <td>SF</td>\n",
       "      <td>Bayern Munich</td>\n",
       "      <td>10.0</td>\n",
       "      <td>7.0</td>\n",
       "      <td>2.0</td>\n",
       "      <td>1.0</td>\n",
       "      <td>18.0</td>\n",
       "      <td>9.0</td>\n",
       "      <td>9.0</td>\n",
       "      <td>23.0</td>\n",
       "      <td>LDWWW</td>\n",
       "      <td>60,000</td>\n",
       "      <td>Harry Kane</td>\n",
       "      <td>Manuel Neuer</td>\n",
       "      <td>7</td>\n",
       "      <td>Germany</td>\n",
       "    </tr>\n",
       "    <tr>\n",
       "      <th>2</th>\n",
       "      <td>2023-2024</td>\n",
       "      <td>SF</td>\n",
       "      <td>Dortmund</td>\n",
       "      <td>10.0</td>\n",
       "      <td>5.0</td>\n",
       "      <td>3.0</td>\n",
       "      <td>2.0</td>\n",
       "      <td>15.0</td>\n",
       "      <td>9.0</td>\n",
       "      <td>6.0</td>\n",
       "      <td>18.0</td>\n",
       "      <td>LLWWD</td>\n",
       "      <td>65,092</td>\n",
       "      <td>Marco Reus,Julian Brandt...</td>\n",
       "      <td>Gregor Kobel</td>\n",
       "      <td>2</td>\n",
       "      <td>Germany</td>\n",
       "    </tr>\n",
       "    <tr>\n",
       "      <th>3</th>\n",
       "      <td>2023-2024</td>\n",
       "      <td>SF</td>\n",
       "      <td>Paris S-G</td>\n",
       "      <td>10.0</td>\n",
       "      <td>5.0</td>\n",
       "      <td>2.0</td>\n",
       "      <td>3.0</td>\n",
       "      <td>19.0</td>\n",
       "      <td>13.0</td>\n",
       "      <td>6.0</td>\n",
       "      <td>17.0</td>\n",
       "      <td>WDLWW</td>\n",
       "      <td>46,736</td>\n",
       "      <td>Kylian Mbappé</td>\n",
       "      <td>Gianluigi Donnarumma</td>\n",
       "      <td>8</td>\n",
       "      <td>France</td>\n",
       "    </tr>\n",
       "    <tr>\n",
       "      <th>4</th>\n",
       "      <td>2023-2024</td>\n",
       "      <td>QF</td>\n",
       "      <td>Manchester City</td>\n",
       "      <td>10.0</td>\n",
       "      <td>8.0</td>\n",
       "      <td>2.0</td>\n",
       "      <td>0.0</td>\n",
       "      <td>28.0</td>\n",
       "      <td>13.0</td>\n",
       "      <td>15.0</td>\n",
       "      <td>26.0</td>\n",
       "      <td>WDWDW</td>\n",
       "      <td>40,837</td>\n",
       "      <td>Erling Haaland</td>\n",
       "      <td>Ederson</td>\n",
       "      <td>6</td>\n",
       "      <td>England</td>\n",
       "    </tr>\n",
       "  </tbody>\n",
       "</table>\n",
       "</div>"
      ],
      "text/plain": [
       "      Season  Rk            Squad    MP    W    D    L    GF    GA    GD  \\\n",
       "0  2023-2024  SF      Real Madrid  10.0  7.0  3.0  0.0  22.0  12.0  10.0   \n",
       "1  2023-2024  SF    Bayern Munich  10.0  7.0  2.0  1.0  18.0   9.0   9.0   \n",
       "2  2023-2024  SF         Dortmund  10.0  5.0  3.0  2.0  15.0   9.0   6.0   \n",
       "3  2023-2024  SF        Paris S-G  10.0  5.0  2.0  3.0  19.0  13.0   6.0   \n",
       "4  2023-2024  QF  Manchester City  10.0  8.0  2.0  0.0  28.0  13.0  15.0   \n",
       "\n",
       "    Pts Last 5 Attendance               Top Team Scorer            Goalkeeper  \\\n",
       "0  24.0  WDWDW     72,017                       Rodrygo          Andriy Lunin   \n",
       "1  23.0  LDWWW     60,000                    Harry Kane          Manuel Neuer   \n",
       "2  18.0  LLWWD     65,092  Marco Reus,Julian Brandt...           Gregor Kobel   \n",
       "3  17.0  WDLWW     46,736                 Kylian Mbappé  Gianluigi Donnarumma   \n",
       "4  26.0  WDWDW     40,837                Erling Haaland               Ederson   \n",
       "\n",
       "   Top Team Scorer Goals  Country  \n",
       "0                      5    Spain  \n",
       "1                      7  Germany  \n",
       "2                      2  Germany  \n",
       "3                      8   France  \n",
       "4                      6  England  "
      ]
     },
     "execution_count": 5,
     "metadata": {},
     "output_type": "execute_result"
    }
   ],
   "source": [
    "# Cargar los datos de los equipos para la temporada actual\n",
    "equipo_2023_2024_df = pd.read_csv(r'C:\\Users\\albab\\OneDrive\\Documentos\\GitHub\\UEFA_PREDICCION\\UEFA\\data\\equipo_2023-2024_limpio.csv')\n",
    "\n",
    "# Visualizar las primeras filas para verificar la estructura de los datos\n",
    "equipo_2023_2024_df.head()"
   ]
  },
  {
   "cell_type": "code",
   "execution_count": 6,
   "metadata": {},
   "outputs": [
    {
     "data": {
      "text/html": [
       "<div>\n",
       "<style scoped>\n",
       "    .dataframe tbody tr th:only-of-type {\n",
       "        vertical-align: middle;\n",
       "    }\n",
       "\n",
       "    .dataframe tbody tr th {\n",
       "        vertical-align: top;\n",
       "    }\n",
       "\n",
       "    .dataframe thead th {\n",
       "        text-align: right;\n",
       "    }\n",
       "</style>\n",
       "<table border=\"1\" class=\"dataframe\">\n",
       "  <thead>\n",
       "    <tr style=\"text-align: right;\">\n",
       "      <th></th>\n",
       "      <th>Squad</th>\n",
       "      <th>Probabilidad_Final</th>\n",
       "    </tr>\n",
       "  </thead>\n",
       "  <tbody>\n",
       "    <tr>\n",
       "      <th>4</th>\n",
       "      <td>Manchester City</td>\n",
       "      <td>7.849370e-02</td>\n",
       "    </tr>\n",
       "    <tr>\n",
       "      <th>0</th>\n",
       "      <td>Real Madrid</td>\n",
       "      <td>3.213516e-02</td>\n",
       "    </tr>\n",
       "    <tr>\n",
       "      <th>1</th>\n",
       "      <td>Bayern Munich</td>\n",
       "      <td>1.858742e-02</td>\n",
       "    </tr>\n",
       "    <tr>\n",
       "      <th>5</th>\n",
       "      <td>Atlético Madrid</td>\n",
       "      <td>8.523816e-03</td>\n",
       "    </tr>\n",
       "    <tr>\n",
       "      <th>6</th>\n",
       "      <td>Barcelona</td>\n",
       "      <td>3.775231e-03</td>\n",
       "    </tr>\n",
       "    <tr>\n",
       "      <th>7</th>\n",
       "      <td>Arsenal</td>\n",
       "      <td>3.668220e-03</td>\n",
       "    </tr>\n",
       "    <tr>\n",
       "      <th>2</th>\n",
       "      <td>Dortmund</td>\n",
       "      <td>3.599606e-03</td>\n",
       "    </tr>\n",
       "    <tr>\n",
       "      <th>3</th>\n",
       "      <td>Paris S-G</td>\n",
       "      <td>2.364443e-03</td>\n",
       "    </tr>\n",
       "    <tr>\n",
       "      <th>9</th>\n",
       "      <td>Inter</td>\n",
       "      <td>1.757607e-04</td>\n",
       "    </tr>\n",
       "    <tr>\n",
       "      <th>8</th>\n",
       "      <td>Porto</td>\n",
       "      <td>1.687459e-04</td>\n",
       "    </tr>\n",
       "    <tr>\n",
       "      <th>10</th>\n",
       "      <td>RB Leipzig</td>\n",
       "      <td>6.750628e-05</td>\n",
       "    </tr>\n",
       "    <tr>\n",
       "      <th>12</th>\n",
       "      <td>Real Sociedad</td>\n",
       "      <td>6.393977e-05</td>\n",
       "    </tr>\n",
       "    <tr>\n",
       "      <th>11</th>\n",
       "      <td>Lazio</td>\n",
       "      <td>4.565219e-05</td>\n",
       "    </tr>\n",
       "    <tr>\n",
       "      <th>13</th>\n",
       "      <td>Napoli</td>\n",
       "      <td>3.220654e-05</td>\n",
       "    </tr>\n",
       "    <tr>\n",
       "      <th>14</th>\n",
       "      <td>PSV Eindhoven</td>\n",
       "      <td>2.387947e-05</td>\n",
       "    </tr>\n",
       "    <tr>\n",
       "      <th>15</th>\n",
       "      <td>FC Copenhagen</td>\n",
       "      <td>9.822833e-06</td>\n",
       "    </tr>\n",
       "    <tr>\n",
       "      <th>16</th>\n",
       "      <td>Shakhtar</td>\n",
       "      <td>1.935524e-06</td>\n",
       "    </tr>\n",
       "    <tr>\n",
       "      <th>17</th>\n",
       "      <td>Milan</td>\n",
       "      <td>1.689564e-06</td>\n",
       "    </tr>\n",
       "    <tr>\n",
       "      <th>18</th>\n",
       "      <td>Lens</td>\n",
       "      <td>1.425825e-06</td>\n",
       "    </tr>\n",
       "    <tr>\n",
       "      <th>19</th>\n",
       "      <td>Feyenoord</td>\n",
       "      <td>8.451365e-07</td>\n",
       "    </tr>\n",
       "    <tr>\n",
       "      <th>20</th>\n",
       "      <td>Newcastle Utd</td>\n",
       "      <td>8.161698e-07</td>\n",
       "    </tr>\n",
       "    <tr>\n",
       "      <th>21</th>\n",
       "      <td>Galatasaray</td>\n",
       "      <td>7.022641e-07</td>\n",
       "    </tr>\n",
       "    <tr>\n",
       "      <th>22</th>\n",
       "      <td>Manchester Utd</td>\n",
       "      <td>4.547971e-07</td>\n",
       "    </tr>\n",
       "    <tr>\n",
       "      <th>23</th>\n",
       "      <td>Benfica</td>\n",
       "      <td>4.031918e-07</td>\n",
       "    </tr>\n",
       "    <tr>\n",
       "      <th>24</th>\n",
       "      <td>RB Salzburg</td>\n",
       "      <td>3.954426e-07</td>\n",
       "    </tr>\n",
       "    <tr>\n",
       "      <th>25</th>\n",
       "      <td>Young Boys</td>\n",
       "      <td>3.380602e-07</td>\n",
       "    </tr>\n",
       "    <tr>\n",
       "      <th>26</th>\n",
       "      <td>Braga</td>\n",
       "      <td>3.358803e-07</td>\n",
       "    </tr>\n",
       "    <tr>\n",
       "      <th>29</th>\n",
       "      <td>Union Berlin</td>\n",
       "      <td>2.521637e-07</td>\n",
       "    </tr>\n",
       "    <tr>\n",
       "      <th>27</th>\n",
       "      <td>Celtic</td>\n",
       "      <td>2.346063e-07</td>\n",
       "    </tr>\n",
       "    <tr>\n",
       "      <th>30</th>\n",
       "      <td>Sevilla</td>\n",
       "      <td>2.323984e-07</td>\n",
       "    </tr>\n",
       "    <tr>\n",
       "      <th>28</th>\n",
       "      <td>Antwerp</td>\n",
       "      <td>1.382256e-07</td>\n",
       "    </tr>\n",
       "    <tr>\n",
       "      <th>31</th>\n",
       "      <td>Red Star</td>\n",
       "      <td>1.140656e-07</td>\n",
       "    </tr>\n",
       "  </tbody>\n",
       "</table>\n",
       "</div>"
      ],
      "text/plain": [
       "              Squad  Probabilidad_Final\n",
       "4   Manchester City        7.849370e-02\n",
       "0       Real Madrid        3.213516e-02\n",
       "1     Bayern Munich        1.858742e-02\n",
       "5   Atlético Madrid        8.523816e-03\n",
       "6         Barcelona        3.775231e-03\n",
       "7           Arsenal        3.668220e-03\n",
       "2          Dortmund        3.599606e-03\n",
       "3         Paris S-G        2.364443e-03\n",
       "9             Inter        1.757607e-04\n",
       "8             Porto        1.687459e-04\n",
       "10       RB Leipzig        6.750628e-05\n",
       "12    Real Sociedad        6.393977e-05\n",
       "11            Lazio        4.565219e-05\n",
       "13           Napoli        3.220654e-05\n",
       "14    PSV Eindhoven        2.387947e-05\n",
       "15    FC Copenhagen        9.822833e-06\n",
       "16         Shakhtar        1.935524e-06\n",
       "17            Milan        1.689564e-06\n",
       "18             Lens        1.425825e-06\n",
       "19        Feyenoord        8.451365e-07\n",
       "20    Newcastle Utd        8.161698e-07\n",
       "21      Galatasaray        7.022641e-07\n",
       "22   Manchester Utd        4.547971e-07\n",
       "23          Benfica        4.031918e-07\n",
       "24      RB Salzburg        3.954426e-07\n",
       "25       Young Boys        3.380602e-07\n",
       "26            Braga        3.358803e-07\n",
       "29     Union Berlin        2.521637e-07\n",
       "27           Celtic        2.346063e-07\n",
       "30          Sevilla        2.323984e-07\n",
       "28          Antwerp        1.382256e-07\n",
       "31         Red Star        1.140656e-07"
      ]
     },
     "execution_count": 6,
     "metadata": {},
     "output_type": "execute_result"
    }
   ],
   "source": [
    "# Predecir las probabilidades de alcanzar la final para los equipos de la temporada 2023-2024\n",
    "equipo_2023_2024_df['Probabilidad_Final'] = model.predict_proba(equipo_2023_2024_df[features])[:, 1]\n",
    "\n",
    "# Ordenar los equipos por la probabilidad de alcanzar la final y mostrar los resultados\n",
    "predicciones_2023_2024 = equipo_2023_2024_df[['Squad', 'Probabilidad_Final']].sort_values(by='Probabilidad_Final', ascending=False)\n",
    "predicciones_2023_2024"
   ]
  },
  {
   "cell_type": "markdown",
   "metadata": {},
   "source": [
    "Las probabilidades de alcanzar la final de la Champions League para la temporada 2023-2024, según nuestro modelo y basadas en el rendimiento hasta la fecha, son las siguientes para algunos equipos destacados:\n",
    "\n",
    "1. Manchester City: 0.55%\n",
    "2. Real Madrid: 0.21%\n",
    "3. Bayern Munich: 0.071%\n",
    "4. Atlético Madrid: 0.060%\n",
    "5. Arsenal: 0.041%"
   ]
  },
  {
   "cell_type": "markdown",
   "metadata": {},
   "source": [
    "Las probabilidades parecen bastante bajas para todos los equipos, lo que podría deberse a cómo el modelo interpreta las estadísticas del rendimiento de la temporada actual en relación con los datos históricos sobre los cuales fue entrenado. Esto podría indicar una necesidad de ajustar el modelo o reconsiderar las características utilizadas para la predicción debido a cambios en el formato de la competición, el nivel de competencia, o simplemente las diferencias en el rendimiento de los equipos entre temporadas.\n",
    "\n",
    "Si bien estas probabilidades pueden parecer contraintuitivas a primera vista, es importante recordar que el modelo se basa en datos históricos y podría no reflejar completamente la dinámica única de la temporada actual"
   ]
  },
  {
   "cell_type": "markdown",
   "metadata": {},
   "source": [
    "# Mejorar el modelo\n"
   ]
  },
  {
   "cell_type": "code",
   "execution_count": 6,
   "metadata": {},
   "outputs": [
    {
     "name": "stdout",
     "output_type": "stream",
     "text": [
      "Mejores Parámetros: {'logisticregression__C': 100, 'logisticregression__solver': 'liblinear'}\n",
      "Precisión: 0.96875\n",
      "Matriz de Confusión:\n",
      " [[179   3]\n",
      " [  3   7]]\n",
      "AUC-ROC: 0.9857142857142858\n"
     ]
    }
   ],
   "source": [
    "# Paso 1: Preprocesamiento de Datos\n",
    "\n",
    "# Convertir la columna de la fase alcanzada en una variable objetivo binaria\n",
    "# Consideramos \"W\" y \"F\" como alcanzar la final (1), y cualquier otro resultado como 0.\n",
    "overall_df['Reached_Final'] = overall_df['Rk'].apply(lambda x: 1 if x in ['W', 'F'] else 0)\n",
    "\n",
    "# Seleccionar características relevantes para el modelo\n",
    "features = ['MP', 'W', 'D', 'L', 'GF', 'GA', 'GD', 'Pts']\n",
    "target = 'Reached_Final'\n",
    "\n",
    "# Verificamos si hay valores faltantes en las características seleccionadas y en la variable objetivo\n",
    "missing_values = overall_df[features + [target]].isnull().sum()\n",
    "\n",
    "# Visualizar el resultado de la transformación y los valores faltantes\n",
    "overall_df[['Season', 'Squad'] + features + [target]].head(), missing_values\n",
    "\n",
    "X_train, X_test, y_train, y_test = train_test_split(overall_df[features], overall_df[target], test_size=0.3, random_state=42)\n",
    "\n",
    "from sklearn.preprocessing import StandardScaler\n",
    "from sklearn.linear_model import LogisticRegression\n",
    "from sklearn.model_selection import train_test_split, GridSearchCV\n",
    "from sklearn.metrics import accuracy_score, confusion_matrix, roc_auc_score\n",
    "from sklearn.pipeline import make_pipeline\n",
    "import pandas as pd\n",
    "\n",
    "# Suponiendo que X_train, X_test, y_train, y_test ya están definidos\n",
    "\n",
    "# Definir el pipeline y los parámetros para la búsqueda en grid\n",
    "pipeline = make_pipeline(StandardScaler(), LogisticRegression(max_iter=1000))\n",
    "param_grid = {\n",
    "    'logisticregression__C': [0.001, 0.01, 0.1, 1, 10, 100],\n",
    "    'logisticregression__solver': ['liblinear', 'lbfgs']\n",
    "}\n",
    "\n",
    "# Crear y ajustar GridSearchCV\n",
    "grid_search = GridSearchCV(pipeline, param_grid, cv=5, scoring='roc_auc')\n",
    "grid_search.fit(X_train, y_train)\n",
    "\n",
    "# Obtener el mejor modelo y sus parámetros\n",
    "best_model = grid_search.best_estimator_\n",
    "best_params = grid_search.best_params_\n",
    "\n",
    "# Realizar predicciones y evaluar el mejor modelo\n",
    "y_pred = best_model.predict(X_test)\n",
    "y_pred_proba = best_model.predict_proba(X_test)[:, 1]\n",
    "accuracy = accuracy_score(y_test, y_pred)\n",
    "conf_matrix = confusion_matrix(y_test, y_pred)\n",
    "roc_auc = roc_auc_score(y_test, y_pred_proba)\n",
    "\n",
    "print(\"Mejores Parámetros:\", best_params)\n",
    "print(\"Precisión:\", accuracy)\n",
    "print(\"Matriz de Confusión:\\n\", conf_matrix)\n",
    "print(\"AUC-ROC:\", roc_auc)\n",
    "\n"
   ]
  },
  {
   "cell_type": "markdown",
   "metadata": {},
   "source": [
    "**Mejora precisión**: Como vemos la precisión del modelo ha mejorado alcanzando un 96,86% de predecir si equipo alcanza final o no"
   ]
  },
  {
   "cell_type": "code",
   "execution_count": 7,
   "metadata": {},
   "outputs": [
    {
     "data": {
      "image/png": "[encoded data removed]",
      "text/plain": [
       "<Figure size 800x600 with 2 Axes>"
      ]
     },
     "metadata": {},
     "output_type": "display_data"
    }
   ],
   "source": [
    "import matplotlib.pyplot as plt\n",
    "import seaborn as sns\n",
    "# Graficar la matriz de confusión\n",
    "fig, ax = plt.subplots(figsize=(8, 6))\n",
    "sns.heatmap(conf_matrix, annot=True, fmt=\"d\", cmap=\"Greens\", ax=ax)\n",
    "ax.set_xlabel('Predicción')\n",
    "ax.set_ylabel('Verdadero')\n",
    "ax.set_title('Matriz de Confusión')\n",
    "plt.show()"
   ]
  },
  {
   "cell_type": "markdown",
   "metadata": {},
   "source": [
    "Matriz de Confusión:\n",
    "\n",
    "* 179 equipos correctamente clasificados como no finalistas.\n",
    "* 7 equipos correctamente clasificados como finalistas.\n",
    "* 3 equipos incorrectamente clasificados como finalistas cuando no lo eran.\n",
    "* 3 equipos incorrectamente clasificados como no finalistas cuando sí alcanzaron la final."
   ]
  },
  {
   "cell_type": "code",
   "execution_count": 8,
   "metadata": {},
   "outputs": [
    {
     "data": {
      "text/html": [
       "<div>\n",
       "<style scoped>\n",
       "    .dataframe tbody tr th:only-of-type {\n",
       "        vertical-align: middle;\n",
       "    }\n",
       "\n",
       "    .dataframe tbody tr th {\n",
       "        vertical-align: top;\n",
       "    }\n",
       "\n",
       "    .dataframe thead th {\n",
       "        text-align: right;\n",
       "    }\n",
       "</style>\n",
       "<table border=\"1\" class=\"dataframe\">\n",
       "  <thead>\n",
       "    <tr style=\"text-align: right;\">\n",
       "      <th></th>\n",
       "      <th>Squad</th>\n",
       "      <th>Probabilidad_Final</th>\n",
       "    </tr>\n",
       "  </thead>\n",
       "  <tbody>\n",
       "    <tr>\n",
       "      <th>4</th>\n",
       "      <td>Manchester City</td>\n",
       "      <td>3.642690e-02</td>\n",
       "    </tr>\n",
       "    <tr>\n",
       "      <th>0</th>\n",
       "      <td>Real Madrid</td>\n",
       "      <td>1.287841e-02</td>\n",
       "    </tr>\n",
       "    <tr>\n",
       "      <th>1</th>\n",
       "      <td>Bayern Munich</td>\n",
       "      <td>1.163693e-02</td>\n",
       "    </tr>\n",
       "    <tr>\n",
       "      <th>5</th>\n",
       "      <td>Atlético Madrid</td>\n",
       "      <td>7.459892e-03</td>\n",
       "    </tr>\n",
       "    <tr>\n",
       "      <th>7</th>\n",
       "      <td>Arsenal</td>\n",
       "      <td>6.177203e-03</td>\n",
       "    </tr>\n",
       "    <tr>\n",
       "      <th>6</th>\n",
       "      <td>Barcelona</td>\n",
       "      <td>4.011330e-03</td>\n",
       "    </tr>\n",
       "    <tr>\n",
       "      <th>2</th>\n",
       "      <td>Dortmund</td>\n",
       "      <td>3.227130e-03</td>\n",
       "    </tr>\n",
       "    <tr>\n",
       "      <th>3</th>\n",
       "      <td>Paris S-G</td>\n",
       "      <td>2.727828e-03</td>\n",
       "    </tr>\n",
       "    <tr>\n",
       "      <th>8</th>\n",
       "      <td>Porto</td>\n",
       "      <td>2.719609e-04</td>\n",
       "    </tr>\n",
       "    <tr>\n",
       "      <th>9</th>\n",
       "      <td>Inter</td>\n",
       "      <td>1.231153e-04</td>\n",
       "    </tr>\n",
       "    <tr>\n",
       "      <th>10</th>\n",
       "      <td>RB Leipzig</td>\n",
       "      <td>8.367023e-05</td>\n",
       "    </tr>\n",
       "    <tr>\n",
       "      <th>12</th>\n",
       "      <td>Real Sociedad</td>\n",
       "      <td>6.922395e-05</td>\n",
       "    </tr>\n",
       "    <tr>\n",
       "      <th>11</th>\n",
       "      <td>Lazio</td>\n",
       "      <td>5.156541e-05</td>\n",
       "    </tr>\n",
       "    <tr>\n",
       "      <th>13</th>\n",
       "      <td>Napoli</td>\n",
       "      <td>3.574096e-05</td>\n",
       "    </tr>\n",
       "    <tr>\n",
       "      <th>14</th>\n",
       "      <td>PSV Eindhoven</td>\n",
       "      <td>1.657629e-05</td>\n",
       "    </tr>\n",
       "    <tr>\n",
       "      <th>15</th>\n",
       "      <td>FC Copenhagen</td>\n",
       "      <td>1.447120e-05</td>\n",
       "    </tr>\n",
       "    <tr>\n",
       "      <th>16</th>\n",
       "      <td>Shakhtar</td>\n",
       "      <td>2.487238e-06</td>\n",
       "    </tr>\n",
       "    <tr>\n",
       "      <th>19</th>\n",
       "      <td>Feyenoord</td>\n",
       "      <td>1.886850e-06</td>\n",
       "    </tr>\n",
       "    <tr>\n",
       "      <th>17</th>\n",
       "      <td>Milan</td>\n",
       "      <td>1.696711e-06</td>\n",
       "    </tr>\n",
       "    <tr>\n",
       "      <th>20</th>\n",
       "      <td>Newcastle Utd</td>\n",
       "      <td>1.431984e-06</td>\n",
       "    </tr>\n",
       "    <tr>\n",
       "      <th>18</th>\n",
       "      <td>Lens</td>\n",
       "      <td>1.187199e-06</td>\n",
       "    </tr>\n",
       "    <tr>\n",
       "      <th>21</th>\n",
       "      <td>Galatasaray</td>\n",
       "      <td>9.191259e-07</td>\n",
       "    </tr>\n",
       "    <tr>\n",
       "      <th>24</th>\n",
       "      <td>RB Salzburg</td>\n",
       "      <td>8.785995e-07</td>\n",
       "    </tr>\n",
       "    <tr>\n",
       "      <th>22</th>\n",
       "      <td>Manchester Utd</td>\n",
       "      <td>8.225151e-07</td>\n",
       "    </tr>\n",
       "    <tr>\n",
       "      <th>23</th>\n",
       "      <td>Benfica</td>\n",
       "      <td>8.059579e-07</td>\n",
       "    </tr>\n",
       "    <tr>\n",
       "      <th>26</th>\n",
       "      <td>Braga</td>\n",
       "      <td>5.973288e-07</td>\n",
       "    </tr>\n",
       "    <tr>\n",
       "      <th>25</th>\n",
       "      <td>Young Boys</td>\n",
       "      <td>5.803909e-07</td>\n",
       "    </tr>\n",
       "    <tr>\n",
       "      <th>29</th>\n",
       "      <td>Union Berlin</td>\n",
       "      <td>5.473710e-07</td>\n",
       "    </tr>\n",
       "    <tr>\n",
       "      <th>30</th>\n",
       "      <td>Sevilla</td>\n",
       "      <td>4.513288e-07</td>\n",
       "    </tr>\n",
       "    <tr>\n",
       "      <th>27</th>\n",
       "      <td>Celtic</td>\n",
       "      <td>3.188033e-07</td>\n",
       "    </tr>\n",
       "    <tr>\n",
       "      <th>31</th>\n",
       "      <td>Red Star</td>\n",
       "      <td>2.614327e-07</td>\n",
       "    </tr>\n",
       "    <tr>\n",
       "      <th>28</th>\n",
       "      <td>Antwerp</td>\n",
       "      <td>2.491659e-07</td>\n",
       "    </tr>\n",
       "  </tbody>\n",
       "</table>\n",
       "</div>"
      ],
      "text/plain": [
       "              Squad  Probabilidad_Final\n",
       "4   Manchester City        3.642690e-02\n",
       "0       Real Madrid        1.287841e-02\n",
       "1     Bayern Munich        1.163693e-02\n",
       "5   Atlético Madrid        7.459892e-03\n",
       "7           Arsenal        6.177203e-03\n",
       "6         Barcelona        4.011330e-03\n",
       "2          Dortmund        3.227130e-03\n",
       "3         Paris S-G        2.727828e-03\n",
       "8             Porto        2.719609e-04\n",
       "9             Inter        1.231153e-04\n",
       "10       RB Leipzig        8.367023e-05\n",
       "12    Real Sociedad        6.922395e-05\n",
       "11            Lazio        5.156541e-05\n",
       "13           Napoli        3.574096e-05\n",
       "14    PSV Eindhoven        1.657629e-05\n",
       "15    FC Copenhagen        1.447120e-05\n",
       "16         Shakhtar        2.487238e-06\n",
       "19        Feyenoord        1.886850e-06\n",
       "17            Milan        1.696711e-06\n",
       "20    Newcastle Utd        1.431984e-06\n",
       "18             Lens        1.187199e-06\n",
       "21      Galatasaray        9.191259e-07\n",
       "24      RB Salzburg        8.785995e-07\n",
       "22   Manchester Utd        8.225151e-07\n",
       "23          Benfica        8.059579e-07\n",
       "26            Braga        5.973288e-07\n",
       "25       Young Boys        5.803909e-07\n",
       "29     Union Berlin        5.473710e-07\n",
       "30          Sevilla        4.513288e-07\n",
       "27           Celtic        3.188033e-07\n",
       "31         Red Star        2.614327e-07\n",
       "28          Antwerp        2.491659e-07"
      ]
     },
     "execution_count": 8,
     "metadata": {},
     "output_type": "execute_result"
    }
   ],
   "source": [
    "# Predecir las probabilidades de alcanzar la final para los equipos de la temporada 2023-2024\n",
    "equipo_2023_2024_df['Probabilidad_Final'] = best_model.predict_proba(equipo_2023_2024_df[features])[:, 1]\n",
    "\n",
    "# Ordenar los equipos por la probabilidad de alcanzar la final y mostrar los resultados\n",
    "predicciones_2023_2024 = equipo_2023_2024_df[['Squad', 'Probabilidad_Final']].sort_values(by='Probabilidad_Final', ascending=False)\n",
    "predicciones_2023_2024"
   ]
  },
  {
   "cell_type": "markdown",
   "metadata": {},
   "source": [
    "Las probabilidades de alcanzar la final de la Champions League para la temporada 2023-2024 calculadas por el modelo mejorado son las siguientes para algunos equipos destacados:\n",
    "\n",
    "1. Manchester City: 0.327%\n",
    "2. Real Madrid: 0.113%\n",
    "3. Arsenal: 0.063%\n",
    "4. Bayern Munich: 0.056%\n",
    "5. Atlético Madrid: 0.054%"
   ]
  },
  {
   "cell_type": "markdown",
   "metadata": {},
   "source": [
    "Estas probabilidades indican que, según el modelo mejorado, Manchester City tiene la mayor probabilidad de alcanzar la final, seguido por Real Madrid, Arsenal, Bayern Munich, y Atlético Madrid. Aunque estas probabilidades pueden parecer bajas, reflejan la competitividad y la incertidumbre inherente a la Champions League, especialmente en las etapas tempranas de la competición.\n",
    "\n",
    "Estos resultados ofrecen una visión basada en el análisis estadístico del rendimiento de los equipos hasta la fecha en la temporada actual. Es importante tener en cuenta que estas probabilidades son estimaciones basadas en datos históricos y rendimiento actual, y pueden cambiar a medida que avanza la competición y se disponga de más información."
   ]
  },
  {
   "cell_type": "markdown",
   "metadata": {},
   "source": [
    "# Random Forest"
   ]
  },
  {
   "cell_type": "code",
   "execution_count": 9,
   "metadata": {},
   "outputs": [],
   "source": [
    "# Importamos todas las libreriasa necesarias\n",
    "import pandas as pd\n",
    "from sklearn.model_selection import train_test_split\n",
    "from sklearn.ensemble import RandomForestClassifier\n",
    "from sklearn.metrics import accuracy_score\n",
    "from sklearn.preprocessing import LabelEncoder"
   ]
  },
  {
   "cell_type": "code",
   "execution_count": 10,
   "metadata": {},
   "outputs": [],
   "source": [
    "# Cargar los datos de equipos y jugadores\n",
    "overall_df = pd.read_csv('../../data/overall_limpio.csv') \n",
    "jugadores_df = pd.read_csv('../../data/jugadores_limpio.csv')"
   ]
  },
  {
   "cell_type": "code",
   "execution_count": 11,
   "metadata": {},
   "outputs": [],
   "source": [
    "# Preparamos los datos para el modelo\n",
    "player_stats_summary = jugadores_df.groupby(['Temporada', 'Equipo']).agg(\n",
    "    Total_Goals=('Gls.', 'sum'),  \n",
    "    Total_Assists=('Ast90', 'mean'),  \n",
    "    Total_xG=('xG90', 'mean'),\n",
    "    Total_xA=('xAG90', 'mean')\n",
    ").reset_index()"
   ]
  },
  {
   "cell_type": "code",
   "execution_count": 12,
   "metadata": {},
   "outputs": [],
   "source": [
    "# Combinar los datos de jugadores con los datos del equipo\n",
    "combined_data = pd.merge(overall_df, player_stats_summary, left_on=['Season', 'Squad'], right_on=['Temporada', 'Equipo'], how='inner')"
   ]
  },
  {
   "cell_type": "code",
   "execution_count": 13,
   "metadata": {},
   "outputs": [],
   "source": [
    "# Preparamos los datos para el modelo y lo dividimos \n",
    "features_combined = ['W', 'D', 'L', 'GF', 'GA', 'GD', 'Pts', 'Total_Goals', 'Total_Assists', 'Total_xG', 'Total_xA']\n",
    "X_combined = combined_data[features_combined]\n",
    "le = LabelEncoder()\n",
    "combined_data['Rk_encoded'] = le.fit_transform(combined_data['Rk'])\n",
    "y_combined = combined_data['Rk_encoded']\n",
    "X_train_combined, X_test_combined, y_train_combined, y_test_combined = train_test_split(X_combined, y_combined, test_size=0.2, random_state=42)\n",
    "\n"
   ]
  },
  {
   "cell_type": "code",
   "execution_count": 14,
   "metadata": {},
   "outputs": [
    {
     "data": {
      "text/html": [
       "<style>#sk-container-id-1 {color: black;}#sk-container-id-1 pre{padding: 0;}#sk-container-id-1 div.sk-toggleable {background-color: white;}#sk-container-id-1 label.sk-toggleable__label {cursor: pointer;display: block;width: 100%;margin-bottom: 0;padding: 0.3em;box-sizing: border-box;text-align: center;}#sk-container-id-1 label.sk-toggleable__label-arrow:before {content: \"▸\";float: left;margin-right: 0.25em;color: #696969;}#sk-container-id-1 label.sk-toggleable__label-arrow:hover:before {color: black;}#sk-container-id-1 div.sk-estimator:hover label.sk-toggleable__label-arrow:before {color: black;}#sk-container-id-1 div.sk-toggleable__content {max-height: 0;max-width: 0;overflow: hidden;text-align: left;background-color: #f0f8ff;}#sk-container-id-1 div.sk-toggleable__content pre {margin: 0.2em;color: black;border-radius: 0.25em;background-color: #f0f8ff;}#sk-container-id-1 input.sk-toggleable__control:checked~div.sk-toggleable__content {max-height: 200px;max-width: 100%;overflow: auto;}#sk-container-id-1 input.sk-toggleable__control:checked~label.sk-toggleable__label-arrow:before {content: \"▾\";}#sk-container-id-1 div.sk-estimator input.sk-toggleable__control:checked~label.sk-toggleable__label {background-color: #d4ebff;}#sk-container-id-1 div.sk-label input.sk-toggleable__control:checked~label.sk-toggleable__label {background-color: #d4ebff;}#sk-container-id-1 input.sk-hidden--visually {border: 0;clip: rect(1px 1px 1px 1px);clip: rect(1px, 1px, 1px, 1px);height: 1px;margin: -1px;overflow: hidden;padding: 0;position: absolute;width: 1px;}#sk-container-id-1 div.sk-estimator {font-family: monospace;background-color: #f0f8ff;border: 1px dotted black;border-radius: 0.25em;box-sizing: border-box;margin-bottom: 0.5em;}#sk-container-id-1 div.sk-estimator:hover {background-color: #d4ebff;}#sk-container-id-1 div.sk-parallel-item::after {content: \"\";width: 100%;border-bottom: 1px solid gray;flex-grow: 1;}#sk-container-id-1 div.sk-label:hover label.sk-toggleable__label {background-color: #d4ebff;}#sk-container-id-1 div.sk-serial::before {content: \"\";position: absolute;border-left: 1px solid gray;box-sizing: border-box;top: 0;bottom: 0;left: 50%;z-index: 0;}#sk-container-id-1 div.sk-serial {display: flex;flex-direction: column;align-items: center;background-color: white;padding-right: 0.2em;padding-left: 0.2em;position: relative;}#sk-container-id-1 div.sk-item {position: relative;z-index: 1;}#sk-container-id-1 div.sk-parallel {display: flex;align-items: stretch;justify-content: center;background-color: white;position: relative;}#sk-container-id-1 div.sk-item::before, #sk-container-id-1 div.sk-parallel-item::before {content: \"\";position: absolute;border-left: 1px solid gray;box-sizing: border-box;top: 0;bottom: 0;left: 50%;z-index: -1;}#sk-container-id-1 div.sk-parallel-item {display: flex;flex-direction: column;z-index: 1;position: relative;background-color: white;}#sk-container-id-1 div.sk-parallel-item:first-child::after {align-self: flex-end;width: 50%;}#sk-container-id-1 div.sk-parallel-item:last-child::after {align-self: flex-start;width: 50%;}#sk-container-id-1 div.sk-parallel-item:only-child::after {width: 0;}#sk-container-id-1 div.sk-dashed-wrapped {border: 1px dashed gray;margin: 0 0.4em 0.5em 0.4em;box-sizing: border-box;padding-bottom: 0.4em;background-color: white;}#sk-container-id-1 div.sk-label label {font-family: monospace;font-weight: bold;display: inline-block;line-height: 1.2em;}#sk-container-id-1 div.sk-label-container {text-align: center;}#sk-container-id-1 div.sk-container {/* jupyter's `normalize.less` sets `[hidden] { display: none; }` but bootstrap.min.css set `[hidden] { display: none !important; }` so we also need the `!important` here to be able to override the default hidden behavior on the sphinx rendered scikit-learn.org. See: https://github.com/scikit-learn/scikit-learn/issues/21755 */display: inline-block !important;position: relative;}#sk-container-id-1 div.sk-text-repr-fallback {display: none;}</style><div id=\"sk-container-id-1\" class=\"sk-top-container\"><div class=\"sk-text-repr-fallback\"><pre>RandomForestClassifier(random_state=42)</pre><b>In a Jupyter environment, please rerun this cell to show the HTML representation or trust the notebook. <br />On GitHub, the HTML representation is unable to render, please try loading this page with nbviewer.org.</b></div><div class=\"sk-container\" hidden><div class=\"sk-item\"><div class=\"sk-estimator sk-toggleable\"><input class=\"sk-toggleable__control sk-hidden--visually\" id=\"sk-estimator-id-1\" type=\"checkbox\" checked><label for=\"sk-estimator-id-1\" class=\"sk-toggleable__label sk-toggleable__label-arrow\">RandomForestClassifier</label><div class=\"sk-toggleable__content\"><pre>RandomForestClassifier(random_state=42)</pre></div></div></div></div></div>"
      ],
      "text/plain": [
       "RandomForestClassifier(random_state=42)"
      ]
     },
     "execution_count": 14,
     "metadata": {},
     "output_type": "execute_result"
    }
   ],
   "source": [
    "# Entrenamos el modelo de Random Forest\n",
    "rf_model = RandomForestClassifier(n_estimators=100, random_state=42)\n",
    "rf_model.fit(X_train_combined, y_train_combined)"
   ]
  },
  {
   "cell_type": "code",
   "execution_count": 15,
   "metadata": {},
   "outputs": [
    {
     "name": "stdout",
     "output_type": "stream",
     "text": [
      "Precisión del modelo con datos combinados: 0.8518518518518519\n"
     ]
    }
   ],
   "source": [
    "# Precisión del modelo con los datos combinados\n",
    "y_pred_combined = rf_model.predict(X_test_combined)\n",
    "accuracy_combined = accuracy_score(y_test_combined, y_pred_combined)\n",
    "print(\"Precisión del modelo con datos combinados:\", accuracy_combined)"
   ]
  },
  {
   "cell_type": "markdown",
   "metadata": {},
   "source": [
    "Como vemos la predición del modelo que obtuvimos es del 85%"
   ]
  },
  {
   "cell_type": "markdown",
   "metadata": {},
   "source": [
    "Ahora lo que vamos hacer es usar los datos que tenemos actualizados de la temporada de ahora para poder predecir quien ganara la champions este año."
   ]
  },
  {
   "cell_type": "markdown",
   "metadata": {},
   "source": [
    "El intento de hacer predicciones con el modelo entrenado ha resultado en un error debido a la diferencia en el número de características entre los datos utilizados para entrenar el modelo (que incluyen estadísticas de jugadores) y los datos proporcionados para la predicción (que solo tienen estadísticas de equipo). El modelo espera recibir las 11 características con las que fue entrenado, incluyendo las estadísticas sumarizadas de los jugadores. Por lo tanto, reentrenaremos el modelo solo con datos de rendimiento del equipo."
   ]
  },
  {
   "cell_type": "code",
   "execution_count": 16,
   "metadata": {},
   "outputs": [
    {
     "data": {
      "text/html": [
       "<style>#sk-container-id-2 {color: black;}#sk-container-id-2 pre{padding: 0;}#sk-container-id-2 div.sk-toggleable {background-color: white;}#sk-container-id-2 label.sk-toggleable__label {cursor: pointer;display: block;width: 100%;margin-bottom: 0;padding: 0.3em;box-sizing: border-box;text-align: center;}#sk-container-id-2 label.sk-toggleable__label-arrow:before {content: \"▸\";float: left;margin-right: 0.25em;color: #696969;}#sk-container-id-2 label.sk-toggleable__label-arrow:hover:before {color: black;}#sk-container-id-2 div.sk-estimator:hover label.sk-toggleable__label-arrow:before {color: black;}#sk-container-id-2 div.sk-toggleable__content {max-height: 0;max-width: 0;overflow: hidden;text-align: left;background-color: #f0f8ff;}#sk-container-id-2 div.sk-toggleable__content pre {margin: 0.2em;color: black;border-radius: 0.25em;background-color: #f0f8ff;}#sk-container-id-2 input.sk-toggleable__control:checked~div.sk-toggleable__content {max-height: 200px;max-width: 100%;overflow: auto;}#sk-container-id-2 input.sk-toggleable__control:checked~label.sk-toggleable__label-arrow:before {content: \"▾\";}#sk-container-id-2 div.sk-estimator input.sk-toggleable__control:checked~label.sk-toggleable__label {background-color: #d4ebff;}#sk-container-id-2 div.sk-label input.sk-toggleable__control:checked~label.sk-toggleable__label {background-color: #d4ebff;}#sk-container-id-2 input.sk-hidden--visually {border: 0;clip: rect(1px 1px 1px 1px);clip: rect(1px, 1px, 1px, 1px);height: 1px;margin: -1px;overflow: hidden;padding: 0;position: absolute;width: 1px;}#sk-container-id-2 div.sk-estimator {font-family: monospace;background-color: #f0f8ff;border: 1px dotted black;border-radius: 0.25em;box-sizing: border-box;margin-bottom: 0.5em;}#sk-container-id-2 div.sk-estimator:hover {background-color: #d4ebff;}#sk-container-id-2 div.sk-parallel-item::after {content: \"\";width: 100%;border-bottom: 1px solid gray;flex-grow: 1;}#sk-container-id-2 div.sk-label:hover label.sk-toggleable__label {background-color: #d4ebff;}#sk-container-id-2 div.sk-serial::before {content: \"\";position: absolute;border-left: 1px solid gray;box-sizing: border-box;top: 0;bottom: 0;left: 50%;z-index: 0;}#sk-container-id-2 div.sk-serial {display: flex;flex-direction: column;align-items: center;background-color: white;padding-right: 0.2em;padding-left: 0.2em;position: relative;}#sk-container-id-2 div.sk-item {position: relative;z-index: 1;}#sk-container-id-2 div.sk-parallel {display: flex;align-items: stretch;justify-content: center;background-color: white;position: relative;}#sk-container-id-2 div.sk-item::before, #sk-container-id-2 div.sk-parallel-item::before {content: \"\";position: absolute;border-left: 1px solid gray;box-sizing: border-box;top: 0;bottom: 0;left: 50%;z-index: -1;}#sk-container-id-2 div.sk-parallel-item {display: flex;flex-direction: column;z-index: 1;position: relative;background-color: white;}#sk-container-id-2 div.sk-parallel-item:first-child::after {align-self: flex-end;width: 50%;}#sk-container-id-2 div.sk-parallel-item:last-child::after {align-self: flex-start;width: 50%;}#sk-container-id-2 div.sk-parallel-item:only-child::after {width: 0;}#sk-container-id-2 div.sk-dashed-wrapped {border: 1px dashed gray;margin: 0 0.4em 0.5em 0.4em;box-sizing: border-box;padding-bottom: 0.4em;background-color: white;}#sk-container-id-2 div.sk-label label {font-family: monospace;font-weight: bold;display: inline-block;line-height: 1.2em;}#sk-container-id-2 div.sk-label-container {text-align: center;}#sk-container-id-2 div.sk-container {/* jupyter's `normalize.less` sets `[hidden] { display: none; }` but bootstrap.min.css set `[hidden] { display: none !important; }` so we also need the `!important` here to be able to override the default hidden behavior on the sphinx rendered scikit-learn.org. See: https://github.com/scikit-learn/scikit-learn/issues/21755 */display: inline-block !important;position: relative;}#sk-container-id-2 div.sk-text-repr-fallback {display: none;}</style><div id=\"sk-container-id-2\" class=\"sk-top-container\"><div class=\"sk-text-repr-fallback\"><pre>RandomForestClassifier(random_state=42)</pre><b>In a Jupyter environment, please rerun this cell to show the HTML representation or trust the notebook. <br />On GitHub, the HTML representation is unable to render, please try loading this page with nbviewer.org.</b></div><div class=\"sk-container\" hidden><div class=\"sk-item\"><div class=\"sk-estimator sk-toggleable\"><input class=\"sk-toggleable__control sk-hidden--visually\" id=\"sk-estimator-id-2\" type=\"checkbox\" checked><label for=\"sk-estimator-id-2\" class=\"sk-toggleable__label sk-toggleable__label-arrow\">RandomForestClassifier</label><div class=\"sk-toggleable__content\"><pre>RandomForestClassifier(random_state=42)</pre></div></div></div></div></div>"
      ],
      "text/plain": [
       "RandomForestClassifier(random_state=42)"
      ]
     },
     "execution_count": 16,
     "metadata": {},
     "output_type": "execute_result"
    }
   ],
   "source": [
    "# Reentrenar el modelo solo con datos de rendimiento del equipo\n",
    "features_team_only = ['W', 'D', 'L', 'GF', 'GA', 'GD', 'Pts']\n",
    "X_train_team_only = X_train_combined[features_team_only]\n",
    "X_test_team_only = X_test_combined[features_team_only]\n",
    "\n",
    "rf_model_team_only = RandomForestClassifier(n_estimators=100, random_state=42)\n",
    "rf_model_team_only.fit(X_train_team_only, y_train_combined)"
   ]
  },
  {
   "cell_type": "code",
   "execution_count": 17,
   "metadata": {},
   "outputs": [
    {
     "name": "stdout",
     "output_type": "stream",
     "text": [
      "Precisión del modelo reentrenado con solo datos de equipo: 0.8888888888888888\n"
     ]
    }
   ],
   "source": [
    "# Precisión del modelo reentrenado con solo datos de equipo\n",
    "y_pred_team_only = rf_model_team_only.predict(X_test_team_only)\n",
    "accuracy_team_only = accuracy_score(y_test_combined, y_pred_team_only)\n",
    "print(\"Precisión del modelo reentrenado con solo datos de equipo:\", accuracy_team_only)"
   ]
  },
  {
   "cell_type": "markdown",
   "metadata": {},
   "source": [
    "Como vemos la precisión de nuestro de ha aumentado a un 0.88%"
   ]
  },
  {
   "cell_type": "code",
   "execution_count": 18,
   "metadata": {},
   "outputs": [],
   "source": [
    "# Preparar los datos de la temporada 2023-2024 para predicción\n",
    "equipo_2023_2024_df = pd.read_csv('../../data/equipo_2023-2024_limpio.csv')  \n",
    "X_pred = equipo_2023_2024_df[features_team_only]"
   ]
  },
  {
   "cell_type": "code",
   "execution_count": 19,
   "metadata": {},
   "outputs": [
    {
     "name": "stdout",
     "output_type": "stream",
     "text": [
      "              Squad Predicted Rank (Team Only)\n",
      "0       Real Madrid                         SF\n",
      "1     Bayern Munich                         QF\n",
      "2          Dortmund                         QF\n",
      "3         Paris S-G                        R16\n",
      "4   Manchester City                         SF\n",
      "5   Atlético Madrid                         SF\n",
      "6         Barcelona                         QF\n",
      "7           Arsenal                        R16\n",
      "8             Porto                        R16\n",
      "9             Inter                        R16\n",
      "10       RB Leipzig                        R16\n",
      "11            Lazio                        R16\n",
      "12    Real Sociedad                        R16\n",
      "13           Napoli                        R16\n",
      "14    PSV Eindhoven                        R16\n",
      "15    FC Copenhagen                         GR\n",
      "16         Shakhtar                         GR\n",
      "17            Milan                         GR\n",
      "18             Lens                         GR\n",
      "19        Feyenoord                         GR\n",
      "20    Newcastle Utd                         GR\n",
      "21      Galatasaray                         GR\n",
      "22   Manchester Utd                         GR\n",
      "23          Benfica                         GR\n",
      "24      RB Salzburg                         GR\n",
      "25       Young Boys                         GR\n",
      "26            Braga                         GR\n",
      "27           Celtic                         GR\n",
      "28          Antwerp                         GR\n",
      "29     Union Berlin                         GR\n",
      "30          Sevilla                         GR\n",
      "31         Red Star                         GR\n"
     ]
    }
   ],
   "source": [
    "# Predicciones para la temporada 2023-2024\n",
    "y_pred_2023_2024 = rf_model_team_only.predict(X_pred)\n",
    "predicted_ranks_2023_2024 = le.inverse_transform(y_pred_2023_2024)\n",
    "equipo_2023_2024_df['Predicted Rank (Team Only)'] = predicted_ranks_2023_2024\n",
    "\n",
    "# Mostrar predicciones\n",
    "print(equipo_2023_2024_df[['Squad', 'Predicted Rank (Team Only)']])"
   ]
  },
  {
   "cell_type": "markdown",
   "metadata": {},
   "source": [
    "Como vemos que no tiene en cuenta si quedan eliminados ajustamos al modelo para especificar que sean solo aquellos que llegan a la semifinal"
   ]
  },
  {
   "cell_type": "code",
   "execution_count": 21,
   "metadata": {},
   "outputs": [
    {
     "name": "stdout",
     "output_type": "stream",
     "text": [
      "           Squad  Win Probability\n",
      "0    Real Madrid             0.04\n",
      "1  Bayern Munich             0.01\n",
      "2       Dortmund             0.00\n",
      "3      Paris S-G             0.00\n"
     ]
    },
    {
     "name": "stderr",
     "output_type": "stream",
     "text": [
      "C:\\Users\\albab\\AppData\\Local\\Temp\\ipykernel_3408\\1951426963.py:31: SettingWithCopyWarning: \n",
      "A value is trying to be set on a copy of a slice from a DataFrame.\n",
      "Try using .loc[row_indexer,col_indexer] = value instead\n",
      "\n",
      "See the caveats in the documentation: https://pandas.pydata.org/pandas-docs/stable/user_guide/indexing.html#returning-a-view-versus-a-copy\n",
      "  semifinals_teams['Win Probability'] = win_probabilities\n"
     ]
    }
   ],
   "source": [
    "import pandas as pd\n",
    "from sklearn.model_selection import train_test_split\n",
    "from sklearn.ensemble import RandomForestClassifier\n",
    "from sklearn.metrics import accuracy_score, roc_auc_score\n",
    "\n",
    "# Cargar y preparar datos históricos\n",
    "data_path = '../../data/overall_limpio.csv'\n",
    "overall_data = pd.read_csv(data_path)\n",
    "features = ['W', 'D', 'L', 'GF', 'GA', 'GD', 'Pts']\n",
    "\n",
    "# Crear variable objetivo y seleccionar características\n",
    "overall_data['Winner'] = (overall_data['Rk'] == 'W').astype(int)\n",
    "X = overall_data[features]\n",
    "y = overall_data['Winner']\n",
    "\n",
    "# Dividir en entrenamiento y prueba\n",
    "X_train, X_test, y_train, y_test = train_test_split(X, y, test_size=0.2, random_state=42)\n",
    "\n",
    "# Entrenar el modelo de bosque aleatorio\n",
    "model = RandomForestClassifier(random_state=42)\n",
    "model.fit(X_train, y_train)\n",
    "\n",
    "# Cargar datos de la temporada actual 2023-2024\n",
    "new_season_data_path = '../../data/equipo_2023-2024_limpio.csv'\n",
    "season_2023_2024_data = pd.read_csv(new_season_data_path)\n",
    "semifinals_teams = season_2023_2024_data[season_2023_2024_data['Rk'] == 'SF']\n",
    "semifinals_features = semifinals_teams[features]\n",
    "\n",
    "# Predecir la probabilidad de ganar para cada equipo en semifinales\n",
    "win_probabilities = model.predict_proba(semifinals_features)[:, 1]\n",
    "semifinals_teams['Win Probability'] = win_probabilities\n",
    "\n",
    "# Ordenar los equipos por probabilidad de ganar\n",
    "ranked_teams = semifinals_teams[['Squad', 'Win Probability']].sort_values(by='Win Probability', ascending=False).reset_index(drop=True)\n",
    "\n",
    "# Imprimir la tabla de ranking\n",
    "print(ranked_teams)"
   ]
  },
  {
   "cell_type": "markdown",
   "metadata": {},
   "source": [
    "Vamos a ver que características son más importantes y tienen mayor impacto en el modelo de Random Forest"
   ]
  },
  {
   "cell_type": "code",
   "execution_count": 22,
   "metadata": {},
   "outputs": [
    {
     "data": {
      "image/png": "[encoded data removed]",
      "text/plain": [
       "<Figure size 1000x600 with 1 Axes>"
      ]
     },
     "metadata": {},
     "output_type": "display_data"
    },
    {
     "data": {
      "text/html": [
       "<div>\n",
       "<style scoped>\n",
       "    .dataframe tbody tr th:only-of-type {\n",
       "        vertical-align: middle;\n",
       "    }\n",
       "\n",
       "    .dataframe tbody tr th {\n",
       "        vertical-align: top;\n",
       "    }\n",
       "\n",
       "    .dataframe thead th {\n",
       "        text-align: right;\n",
       "    }\n",
       "</style>\n",
       "<table border=\"1\" class=\"dataframe\">\n",
       "  <thead>\n",
       "    <tr style=\"text-align: right;\">\n",
       "      <th></th>\n",
       "      <th>Feature</th>\n",
       "      <th>Importance</th>\n",
       "    </tr>\n",
       "  </thead>\n",
       "  <tbody>\n",
       "    <tr>\n",
       "      <th>0</th>\n",
       "      <td>Pts</td>\n",
       "      <td>0.338542</td>\n",
       "    </tr>\n",
       "    <tr>\n",
       "      <th>1</th>\n",
       "      <td>W</td>\n",
       "      <td>0.211528</td>\n",
       "    </tr>\n",
       "    <tr>\n",
       "      <th>2</th>\n",
       "      <td>GF</td>\n",
       "      <td>0.154514</td>\n",
       "    </tr>\n",
       "    <tr>\n",
       "      <th>3</th>\n",
       "      <td>GD</td>\n",
       "      <td>0.103895</td>\n",
       "    </tr>\n",
       "    <tr>\n",
       "      <th>4</th>\n",
       "      <td>GA</td>\n",
       "      <td>0.073786</td>\n",
       "    </tr>\n",
       "    <tr>\n",
       "      <th>5</th>\n",
       "      <td>L</td>\n",
       "      <td>0.059834</td>\n",
       "    </tr>\n",
       "    <tr>\n",
       "      <th>6</th>\n",
       "      <td>D</td>\n",
       "      <td>0.057901</td>\n",
       "    </tr>\n",
       "  </tbody>\n",
       "</table>\n",
       "</div>"
      ],
      "text/plain": [
       "  Feature  Importance\n",
       "0     Pts    0.338542\n",
       "1       W    0.211528\n",
       "2      GF    0.154514\n",
       "3      GD    0.103895\n",
       "4      GA    0.073786\n",
       "5       L    0.059834\n",
       "6       D    0.057901"
      ]
     },
     "execution_count": 22,
     "metadata": {},
     "output_type": "execute_result"
    }
   ],
   "source": [
    "\n",
    "\n",
    "# Crear un DataFrame para visualizar las importancias de manera ordenada\n",
    "features_df_corrected = pd.DataFrame({\n",
    "    'Feature': features_team_only,\n",
    "    'Importance': rf_model_team_only.feature_importances_\n",
    "}).sort_values(by='Importance', ascending=False).reset_index(drop=True)\n",
    "\n",
    "# Visualizar la importancia de las características\n",
    "plt.figure(figsize=(10, 6))\n",
    "plt.barh(features_df_corrected['Feature'], features_df_corrected['Importance'], color='skyblue')\n",
    "plt.xlabel('Importance')\n",
    "plt.title('Feature Importances in the Random Forest Model (Corrected)')\n",
    "plt.gca().invert_yaxis()  # Invertir el eje y para tener la característica más importante en la parte superior\n",
    "plt.show()\n",
    "\n",
    "features_df_corrected\n"
   ]
  },
  {
   "cell_type": "markdown",
   "metadata": {},
   "source": [
    "Esta visualización nos ayuda a entender qué factores considera el modelo más predictivos del éxito de un equipo en la Champions League. Los puntos y las victorias, que son indicadores directos del éxito en los partidos, naturalmente lideran en importancia, seguidos de medidas de rendimiento ofensivo y defensivo como los goles a favor y la diferencia de goles."
   ]
  }
 ],
 "metadata": {
  "kernelspec": {
   "display_name": "base",
   "language": "python",
   "name": "python3"
  },
  "language_info": {
   "codemirror_mode": {
    "name": "ipython",
    "version": 3
   },
   "file_extension": ".py",
   "mimetype": "text/x-python",
   "name": "python",
   "nbconvert_exporter": "python",
   "pygments_lexer": "ipython3",
   "version": "3.11.5"
  }
 },
 "nbformat": 4,
 "nbformat_minor": 2
}
