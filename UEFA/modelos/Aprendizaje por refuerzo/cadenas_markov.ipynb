{
 "cells": [
  {
   "cell_type": "markdown",
   "metadata": {},
   "source": [
    "## Cadenas de Markov "
   ]
  },
  {
   "cell_type": "markdown",
   "metadata": {},
   "source": [
    "Para diseñar un modelo de aprendizaje por refuerzo utilizando Cadenas de Markov para predecir el ganador de la Champions League, primero necesitamos entender y procesar los datos que has subido. Vamos a comenzar cargando y explorando tus datos para ver cómo están estructurados y qué tipo de información contienen"
   ]
  },
  {
   "cell_type": "code",
   "execution_count": 9,
   "metadata": {},
   "outputs": [
    {
     "data": {
      "text/html": [
       "<div>\n",
       "<style scoped>\n",
       "    .dataframe tbody tr th:only-of-type {\n",
       "        vertical-align: middle;\n",
       "    }\n",
       "\n",
       "    .dataframe tbody tr th {\n",
       "        vertical-align: top;\n",
       "    }\n",
       "\n",
       "    .dataframe thead th {\n",
       "        text-align: right;\n",
       "    }\n",
       "</style>\n",
       "<table border=\"1\" class=\"dataframe\">\n",
       "  <thead>\n",
       "    <tr style=\"text-align: right;\">\n",
       "      <th></th>\n",
       "      <th>Season</th>\n",
       "      <th>Round</th>\n",
       "      <th>Day</th>\n",
       "      <th>Date</th>\n",
       "      <th>Home</th>\n",
       "      <th>Score</th>\n",
       "      <th>Away</th>\n",
       "      <th>Venue</th>\n",
       "      <th>Referee</th>\n",
       "    </tr>\n",
       "  </thead>\n",
       "  <tbody>\n",
       "    <tr>\n",
       "      <th>0</th>\n",
       "      <td>2022-2023</td>\n",
       "      <td>Round of 16</td>\n",
       "      <td>Tue</td>\n",
       "      <td>2023-02-14</td>\n",
       "      <td>Milan</td>\n",
       "      <td>1-0</td>\n",
       "      <td>Tottenham</td>\n",
       "      <td>Stadio Giuseppe Meazza</td>\n",
       "      <td>Sandro Schärer</td>\n",
       "    </tr>\n",
       "    <tr>\n",
       "      <th>1</th>\n",
       "      <td>2022-2023</td>\n",
       "      <td>Round of 16</td>\n",
       "      <td>Tue</td>\n",
       "      <td>2023-02-14</td>\n",
       "      <td>Paris S-G</td>\n",
       "      <td>0-1</td>\n",
       "      <td>Bayern Munich</td>\n",
       "      <td>Parc des Princes</td>\n",
       "      <td>Michael Oliver</td>\n",
       "    </tr>\n",
       "    <tr>\n",
       "      <th>2</th>\n",
       "      <td>2022-2023</td>\n",
       "      <td>Round of 16</td>\n",
       "      <td>Wed</td>\n",
       "      <td>2023-02-15</td>\n",
       "      <td>Club Brugge</td>\n",
       "      <td>0-2</td>\n",
       "      <td>Benfica</td>\n",
       "      <td>Jan Breydelstadion</td>\n",
       "      <td>Davide Massa</td>\n",
       "    </tr>\n",
       "    <tr>\n",
       "      <th>3</th>\n",
       "      <td>2022-2023</td>\n",
       "      <td>Round of 16</td>\n",
       "      <td>Wed</td>\n",
       "      <td>2023-02-15</td>\n",
       "      <td>Dortmund</td>\n",
       "      <td>1-0</td>\n",
       "      <td>Chelsea</td>\n",
       "      <td>Signal Iduna Park</td>\n",
       "      <td>Jesús Gil</td>\n",
       "    </tr>\n",
       "    <tr>\n",
       "      <th>4</th>\n",
       "      <td>2022-2023</td>\n",
       "      <td>Round of 16</td>\n",
       "      <td>Tue</td>\n",
       "      <td>2023-02-21</td>\n",
       "      <td>Liverpool</td>\n",
       "      <td>2-5</td>\n",
       "      <td>Real Madrid</td>\n",
       "      <td>Anfield</td>\n",
       "      <td>István Kovács</td>\n",
       "    </tr>\n",
       "  </tbody>\n",
       "</table>\n",
       "</div>"
      ],
      "text/plain": [
       "      Season        Round  Day        Date         Home Score           Away  \\\n",
       "0  2022-2023  Round of 16  Tue  2023-02-14        Milan   1-0      Tottenham   \n",
       "1  2022-2023  Round of 16  Tue  2023-02-14    Paris S-G   0-1  Bayern Munich   \n",
       "2  2022-2023  Round of 16  Wed  2023-02-15  Club Brugge   0-2        Benfica   \n",
       "3  2022-2023  Round of 16  Wed  2023-02-15     Dortmund   1-0        Chelsea   \n",
       "4  2022-2023  Round of 16  Tue  2023-02-21    Liverpool   2-5    Real Madrid   \n",
       "\n",
       "                    Venue         Referee  \n",
       "0  Stadio Giuseppe Meazza  Sandro Schärer  \n",
       "1        Parc des Princes  Michael Oliver  \n",
       "2      Jan Breydelstadion    Davide Massa  \n",
       "3       Signal Iduna Park       Jesús Gil  \n",
       "4                 Anfield   István Kovács  "
      ]
     },
     "execution_count": 9,
     "metadata": {},
     "output_type": "execute_result"
    }
   ],
   "source": [
    "import pandas as pd\n",
    "\n",
    "# Cargar el archivo CSV para revisar su contenido\n",
    "data_path = '../../data/partidos_limpio.csv'\n",
    "data = pd.read_csv(data_path)\n",
    "\n",
    "# Mostrar las primeras filas del dataframe\n",
    "data.head()"
   ]
  },
  {
   "cell_type": "markdown",
   "metadata": {},
   "source": [
    "Para un modelo básico de Cadena de Markov, podríamos definir los estados como los posibles resultados de un partido (victoria del equipo local, empate, victoria del equipo visitante) y las transiciones basadas en la probabilidad de pasar de un resultado a otro en partidos consecutivos. Sin embargo, un enfoque más complejo y potencialmente más útil podría considerar aspectos como la fuerza relativa de los equipos, las ubicaciones de los partidos (casa o fuera), entre otros."
   ]
  },
  {
   "cell_type": "markdown",
   "metadata": {},
   "source": [
    "#### 1. Paso 1"
   ]
  },
  {
   "cell_type": "markdown",
   "metadata": {},
   "source": [
    " Primero, necesitamos extraer el resultado de cada partido en términos de victoria del equipo local, empate o victoria del equipo visitante. Esto implica:\n",
    "\n",
    "* Separar los goles de cada equipo del campo 'Score'.\n",
    "* Comparar los goles para determinar el resultado del partido (victoria local, empate, victoria visitante)."
   ]
  },
  {
   "cell_type": "code",
   "execution_count": 10,
   "metadata": {},
   "outputs": [
    {
     "data": {
      "text/html": [
       "<div>\n",
       "<style scoped>\n",
       "    .dataframe tbody tr th:only-of-type {\n",
       "        vertical-align: middle;\n",
       "    }\n",
       "\n",
       "    .dataframe tbody tr th {\n",
       "        vertical-align: top;\n",
       "    }\n",
       "\n",
       "    .dataframe thead th {\n",
       "        text-align: right;\n",
       "    }\n",
       "</style>\n",
       "<table border=\"1\" class=\"dataframe\">\n",
       "  <thead>\n",
       "    <tr style=\"text-align: right;\">\n",
       "      <th></th>\n",
       "      <th>Home</th>\n",
       "      <th>Away</th>\n",
       "      <th>Home_goals</th>\n",
       "      <th>Away_goals</th>\n",
       "      <th>Result</th>\n",
       "    </tr>\n",
       "  </thead>\n",
       "  <tbody>\n",
       "    <tr>\n",
       "      <th>0</th>\n",
       "      <td>Milan</td>\n",
       "      <td>Tottenham</td>\n",
       "      <td>1</td>\n",
       "      <td>0</td>\n",
       "      <td>1</td>\n",
       "    </tr>\n",
       "    <tr>\n",
       "      <th>1</th>\n",
       "      <td>Paris S-G</td>\n",
       "      <td>Bayern Munich</td>\n",
       "      <td>0</td>\n",
       "      <td>1</td>\n",
       "      <td>2</td>\n",
       "    </tr>\n",
       "    <tr>\n",
       "      <th>2</th>\n",
       "      <td>Club Brugge</td>\n",
       "      <td>Benfica</td>\n",
       "      <td>0</td>\n",
       "      <td>2</td>\n",
       "      <td>2</td>\n",
       "    </tr>\n",
       "    <tr>\n",
       "      <th>3</th>\n",
       "      <td>Dortmund</td>\n",
       "      <td>Chelsea</td>\n",
       "      <td>1</td>\n",
       "      <td>0</td>\n",
       "      <td>1</td>\n",
       "    </tr>\n",
       "    <tr>\n",
       "      <th>4</th>\n",
       "      <td>Liverpool</td>\n",
       "      <td>Real Madrid</td>\n",
       "      <td>2</td>\n",
       "      <td>5</td>\n",
       "      <td>2</td>\n",
       "    </tr>\n",
       "  </tbody>\n",
       "</table>\n",
       "</div>"
      ],
      "text/plain": [
       "          Home           Away  Home_goals  Away_goals  Result\n",
       "0        Milan      Tottenham           1           0       1\n",
       "1    Paris S-G  Bayern Munich           0           1       2\n",
       "2  Club Brugge        Benfica           0           2       2\n",
       "3     Dortmund        Chelsea           1           0       1\n",
       "4    Liverpool    Real Madrid           2           5       2"
      ]
     },
     "execution_count": 10,
     "metadata": {},
     "output_type": "execute_result"
    }
   ],
   "source": [
    "# Separar los goles de cada equipo\n",
    "data[['Home_goals', 'Away_goals']] = data['Score'].str.split('-', expand=True).astype(int)\n",
    "\n",
    "# Determinar el resultado del partido: 0 = empate, 1 = victoria local, 2 = victoria visitante\n",
    "data['Result'] = (data['Home_goals'] > data['Away_goals']).astype(int) + (data['Away_goals'] > data['Home_goals']).astype(int) * 2\n",
    "\n",
    "# Revisar los datos procesados\n",
    "data[['Home', 'Away', 'Home_goals', 'Away_goals', 'Result']].head()"
   ]
  },
  {
   "cell_type": "markdown",
   "metadata": {},
   "source": [
    "Una vez hecho esto, podremos utilizar estos resultados para definir los estados de nuestra Cadena de Markov. Vamos a procesar estos datos ahora.\n",
    "\n",
    "He procesado los resultados de los partidos para determinar si el equipo local ganó (representado por 1), si el partido resultó en empate (representado por 0), o si ganó el equipo visitante (representado por 2). Con esta información, ya podemos avanzar hacia la definición y construcción de la matriz de transición para la Cadena de Markov."
   ]
  },
  {
   "cell_type": "markdown",
   "metadata": {},
   "source": [
    "#### 2. Definición de la matriz de transición"
   ]
  },
  {
   "cell_type": "markdown",
   "metadata": {},
   "source": [
    "Para cada estado (victoria local, empate, victoria visitante), necesitamos calcular la probabilidad de transición hacia cada uno de los otros estados. Esto implica:\n",
    "\n",
    "* Contar cuántas veces cada resultado (estado) sigue a otro en partidos consecutivos.\n",
    "* Dividir cada conteo por el total de partidos que terminaron en el estado inicial para obtener la probabilidad de transición."
   ]
  },
  {
   "cell_type": "code",
   "execution_count": 11,
   "metadata": {},
   "outputs": [
    {
     "data": {
      "text/plain": [
       "array([[0.224     , 0.512     , 0.264     ],\n",
       "       [0.20212766, 0.5177305 , 0.28014184],\n",
       "       [0.24096386, 0.42771084, 0.3313253 ]])"
      ]
     },
     "execution_count": 11,
     "metadata": {},
     "output_type": "execute_result"
    }
   ],
   "source": [
    "import numpy as np\n",
    "\n",
    "# Inicializar la matriz de transición\n",
    "transition_matrix = np.zeros((3, 3))\n",
    "\n",
    "# Calcular las transiciones de estados\n",
    "for i in range(3):\n",
    "    # Filtrar partidos donde el resultado anterior es 'i'\n",
    "    subset = data[data['Result'].shift(1) == i]\n",
    "    \n",
    "    # Contar transiciones hacia otros estados\n",
    "    for j in range(3):\n",
    "        transition_matrix[i, j] = (subset['Result'] == j).sum()\n",
    "\n",
    "# Normalizar las filas para obtener probabilidades\n",
    "transition_matrix = transition_matrix / transition_matrix.sum(axis=1, keepdims=True)\n",
    "\n",
    "transition_matrix"
   ]
  },
  {
   "cell_type": "markdown",
   "metadata": {},
   "source": [
    "He calculado la matriz de transición para nuestro modelo de Cadena de Markov. Cada fila representa el estado inicial (victoria local, empate, victoria visitante), y cada columna representa el estado siguiente. Los valores en la matriz son las probabilidades de transición entre estos estados:\n",
    "\n",
    "* La primera fila corresponde a los partidos que terminaron con una victoria local. Las probabilidades de que el siguiente partido termine en victoria local, empate, y victoria visitante son aproximadamente 22.4%, 51.2%, y 26.4% respectivamente.\n",
    "\n",
    "* La segunda fila para los empates muestra probabilidades de 20.2% para victoria local, 51.8% para otro empate, y 28.0% para victoria visitante en el siguiente partido.\n",
    "\n",
    "* La tercera fila, para victorias visitantes, tiene probabilidades de 24.1% para victoria local, 42.8% para empate, y 33.1% para otra victoria visitante en el partido siguiente."
   ]
  },
  {
   "cell_type": "markdown",
   "metadata": {},
   "source": [
    "#### 3. Simulación"
   ]
  },
  {
   "cell_type": "markdown",
   "metadata": {},
   "source": [
    "Una vez que tenemos la matriz de transición definida, vamos a utilizar esta y los datos que tenemos de esta temporada para determinar el ganador de la Champions League 2023-2024"
   ]
  },
  {
   "cell_type": "code",
   "execution_count": 12,
   "metadata": {},
   "outputs": [
    {
     "data": {
      "text/html": [
       "<div>\n",
       "<style scoped>\n",
       "    .dataframe tbody tr th:only-of-type {\n",
       "        vertical-align: middle;\n",
       "    }\n",
       "\n",
       "    .dataframe tbody tr th {\n",
       "        vertical-align: top;\n",
       "    }\n",
       "\n",
       "    .dataframe thead th {\n",
       "        text-align: right;\n",
       "    }\n",
       "</style>\n",
       "<table border=\"1\" class=\"dataframe\">\n",
       "  <thead>\n",
       "    <tr style=\"text-align: right;\">\n",
       "      <th></th>\n",
       "      <th>Season</th>\n",
       "      <th>Round</th>\n",
       "      <th>Day</th>\n",
       "      <th>Date</th>\n",
       "      <th>Home</th>\n",
       "      <th>Score</th>\n",
       "      <th>Away</th>\n",
       "      <th>Venue</th>\n",
       "      <th>Referee</th>\n",
       "    </tr>\n",
       "  </thead>\n",
       "  <tbody>\n",
       "    <tr>\n",
       "      <th>0</th>\n",
       "      <td>2023-2024</td>\n",
       "      <td>Round of 16</td>\n",
       "      <td>Tue</td>\n",
       "      <td>2024-02-13</td>\n",
       "      <td>RB Leipzig</td>\n",
       "      <td>0-1</td>\n",
       "      <td>Real Madrid</td>\n",
       "      <td>Red Bull Arena</td>\n",
       "      <td>Irfan Peljto</td>\n",
       "    </tr>\n",
       "    <tr>\n",
       "      <th>1</th>\n",
       "      <td>2023-2024</td>\n",
       "      <td>Round of 16</td>\n",
       "      <td>Tue</td>\n",
       "      <td>2024-02-13</td>\n",
       "      <td>FC Copenhagen</td>\n",
       "      <td>1-3</td>\n",
       "      <td>Manchester City</td>\n",
       "      <td>Parken</td>\n",
       "      <td>José Sánchez</td>\n",
       "    </tr>\n",
       "    <tr>\n",
       "      <th>2</th>\n",
       "      <td>2023-2024</td>\n",
       "      <td>Round of 16</td>\n",
       "      <td>Wed</td>\n",
       "      <td>2024-02-14</td>\n",
       "      <td>Paris S-G</td>\n",
       "      <td>2-0</td>\n",
       "      <td>Real Sociedad</td>\n",
       "      <td>Parc des Princes</td>\n",
       "      <td>Marco Guida</td>\n",
       "    </tr>\n",
       "    <tr>\n",
       "      <th>3</th>\n",
       "      <td>2023-2024</td>\n",
       "      <td>Round of 16</td>\n",
       "      <td>Wed</td>\n",
       "      <td>2024-02-14</td>\n",
       "      <td>Lazio</td>\n",
       "      <td>1-0</td>\n",
       "      <td>Bayern Munich</td>\n",
       "      <td>Stadio Olimpico</td>\n",
       "      <td>François Letexier</td>\n",
       "    </tr>\n",
       "    <tr>\n",
       "      <th>4</th>\n",
       "      <td>2023-2024</td>\n",
       "      <td>Round of 16</td>\n",
       "      <td>Tue</td>\n",
       "      <td>2024-02-20</td>\n",
       "      <td>PSV Eindhoven</td>\n",
       "      <td>1-1</td>\n",
       "      <td>Dortmund</td>\n",
       "      <td>Philips Stadion</td>\n",
       "      <td>Srđan Jovanović</td>\n",
       "    </tr>\n",
       "  </tbody>\n",
       "</table>\n",
       "</div>"
      ],
      "text/plain": [
       "      Season        Round  Day        Date           Home Score  \\\n",
       "0  2023-2024  Round of 16  Tue  2024-02-13     RB Leipzig   0-1   \n",
       "1  2023-2024  Round of 16  Tue  2024-02-13  FC Copenhagen   1-3   \n",
       "2  2023-2024  Round of 16  Wed  2024-02-14      Paris S-G   2-0   \n",
       "3  2023-2024  Round of 16  Wed  2024-02-14          Lazio   1-0   \n",
       "4  2023-2024  Round of 16  Tue  2024-02-20  PSV Eindhoven   1-1   \n",
       "\n",
       "              Away             Venue            Referee  \n",
       "0      Real Madrid    Red Bull Arena       Irfan Peljto  \n",
       "1  Manchester City            Parken       José Sánchez  \n",
       "2    Real Sociedad  Parc des Princes        Marco Guida  \n",
       "3    Bayern Munich   Stadio Olimpico  François Letexier  \n",
       "4         Dortmund   Philips Stadion    Srđan Jovanović  "
      ]
     },
     "execution_count": 12,
     "metadata": {},
     "output_type": "execute_result"
    }
   ],
   "source": [
    "# Cargar el archivo CSV de la temporada 2023-2024 para revisar su contenido\n",
    "data_path_new = '../../data/partidos_2023-2024_limpio.csv'\n",
    "data_new = pd.read_csv(data_path_new)\n",
    "\n",
    "# Mostrar las primeras filas del nuevo dataframe limpio\n",
    "data_new.head()"
   ]
  },
  {
   "cell_type": "code",
   "execution_count": 13,
   "metadata": {},
   "outputs": [
    {
     "name": "stderr",
     "output_type": "stream",
     "text": [
      "C:\\Users\\albab\\AppData\\Local\\Temp\\ipykernel_38832\\3069635747.py:5: SettingWithCopyWarning: \n",
      "A value is trying to be set on a copy of a slice from a DataFrame.\n",
      "Try using .loc[row_indexer,col_indexer] = value instead\n",
      "\n",
      "See the caveats in the documentation: https://pandas.pydata.org/pandas-docs/stable/user_guide/indexing.html#returning-a-view-versus-a-copy\n",
      "  played_data['Home_goals'] = played_data['Score'].str.extract('(\\d+)-')[0].astype(int)\n",
      "C:\\Users\\albab\\AppData\\Local\\Temp\\ipykernel_38832\\3069635747.py:6: SettingWithCopyWarning: \n",
      "A value is trying to be set on a copy of a slice from a DataFrame.\n",
      "Try using .loc[row_indexer,col_indexer] = value instead\n",
      "\n",
      "See the caveats in the documentation: https://pandas.pydata.org/pandas-docs/stable/user_guide/indexing.html#returning-a-view-versus-a-copy\n",
      "  played_data['Away_goals'] = played_data['Score'].str.extract('-(\\d+)')[0].astype(int)\n",
      "C:\\Users\\albab\\AppData\\Local\\Temp\\ipykernel_38832\\3069635747.py:9: SettingWithCopyWarning: \n",
      "A value is trying to be set on a copy of a slice from a DataFrame.\n",
      "Try using .loc[row_indexer,col_indexer] = value instead\n",
      "\n",
      "See the caveats in the documentation: https://pandas.pydata.org/pandas-docs/stable/user_guide/indexing.html#returning-a-view-versus-a-copy\n",
      "  played_data['Result'] = (played_data['Home_goals'] > played_data['Away_goals']).astype(int) + \\\n"
     ]
    },
    {
     "data": {
      "text/plain": [
       "(               Home             Away  Home_goals  Away_goals  Result\n",
       " 0        RB Leipzig      Real Madrid           0           1       2\n",
       " 1     FC Copenhagen  Manchester City           1           3       2\n",
       " 2         Paris S-G    Real Sociedad           2           0       1\n",
       " 3             Lazio    Bayern Munich           1           0       1\n",
       " 4     PSV Eindhoven         Dortmund           1           1       0\n",
       " 5             Inter  Atlético Madrid           1           0       1\n",
       " 6             Porto          Arsenal           1           0       1\n",
       " 7            Napoli        Barcelona           1           1       0\n",
       " 8     Real Sociedad        Paris S-G           1           2       2\n",
       " 9     Bayern Munich            Lazio           3           0       1\n",
       " 10  Manchester City    FC Copenhagen           3           1       1\n",
       " 11      Real Madrid       RB Leipzig           1           1       0\n",
       " 12          Arsenal            Porto           1           0       1\n",
       " 13        Barcelona           Napoli           3           1       1\n",
       " 14  Atlético Madrid            Inter           2           1       1\n",
       " 15         Dortmund    PSV Eindhoven           2           0       1\n",
       " 16          Arsenal    Bayern Munich           2           2       0\n",
       " 17      Real Madrid  Manchester City           3           3       0\n",
       " 18  Atlético Madrid         Dortmund           2           1       1\n",
       " 19        Paris S-G        Barcelona           2           3       2\n",
       " 20         Dortmund  Atlético Madrid           4           2       1\n",
       " 21        Barcelona        Paris S-G           1           4       2\n",
       " 22  Manchester City      Real Madrid           1           1       0\n",
       " 23    Bayern Munich          Arsenal           1           0       1,\n",
       "              Home           Away\n",
       " 24  Bayern Munich    Real Madrid\n",
       " 25       Dortmund      Paris S-G\n",
       " 26      Paris S-G       Dortmund\n",
       " 27    Real Madrid  Bayern Munich)"
      ]
     },
     "execution_count": 13,
     "metadata": {},
     "output_type": "execute_result"
    }
   ],
   "source": [
    "# Filtrar los datos para excluir partidos sin resultados registrados (donde 'Score' es NaN)\n",
    "played_data = data_new.dropna(subset=['Score'])\n",
    "\n",
    "# Extraer los goles de cada equipo de los partidos jugados\n",
    "played_data['Home_goals'] = played_data['Score'].str.extract('(\\d+)-')[0].astype(int)\n",
    "played_data['Away_goals'] = played_data['Score'].str.extract('-(\\d+)')[0].astype(int)\n",
    "\n",
    "# Determinar el resultado del partido: 0 = empate, 1 = victoria local, 2 = victoria visitante\n",
    "played_data['Result'] = (played_data['Home_goals'] > played_data['Away_goals']).astype(int) + \\\n",
    "                        (played_data['Away_goals'] > played_data['Home_goals']).astype(int) * 2\n",
    "\n",
    "# Identificar partidos sin resultados para simulación\n",
    "unplayed_matches = data_new[data_new['Score'].isna()]\n",
    "\n",
    "played_data[['Home', 'Away', 'Home_goals', 'Away_goals', 'Result']], unplayed_matches[['Home', 'Away']]\n"
   ]
  },
  {
   "cell_type": "markdown",
   "metadata": {},
   "source": [
    "Una vez separamos tambien el score de los datos de esta temporada comenzamos con la simulacion"
   ]
  },
  {
   "cell_type": "code",
   "execution_count": 14,
   "metadata": {},
   "outputs": [
    {
     "name": "stderr",
     "output_type": "stream",
     "text": [
      "C:\\Users\\albab\\AppData\\Local\\Temp\\ipykernel_38832\\3776462162.py:10: SettingWithCopyWarning: \n",
      "A value is trying to be set on a copy of a slice from a DataFrame.\n",
      "Try using .loc[row_indexer,col_indexer] = value instead\n",
      "\n",
      "See the caveats in the documentation: https://pandas.pydata.org/pandas-docs/stable/user_guide/indexing.html#returning-a-view-versus-a-copy\n",
      "  unplayed_matches['Simulated_Result'] = unplayed_matches.apply(lambda row: simulate_match(played_data[played_data['Home'] == row['Home']]['Result'].iloc[-1]\n"
     ]
    },
    {
     "data": {
      "text/html": [
       "<div>\n",
       "<style scoped>\n",
       "    .dataframe tbody tr th:only-of-type {\n",
       "        vertical-align: middle;\n",
       "    }\n",
       "\n",
       "    .dataframe tbody tr th {\n",
       "        vertical-align: top;\n",
       "    }\n",
       "\n",
       "    .dataframe thead th {\n",
       "        text-align: right;\n",
       "    }\n",
       "</style>\n",
       "<table border=\"1\" class=\"dataframe\">\n",
       "  <thead>\n",
       "    <tr style=\"text-align: right;\">\n",
       "      <th></th>\n",
       "      <th>Home</th>\n",
       "      <th>Away</th>\n",
       "      <th>Simulated_Result</th>\n",
       "    </tr>\n",
       "  </thead>\n",
       "  <tbody>\n",
       "    <tr>\n",
       "      <th>24</th>\n",
       "      <td>Bayern Munich</td>\n",
       "      <td>Real Madrid</td>\n",
       "      <td>1</td>\n",
       "    </tr>\n",
       "    <tr>\n",
       "      <th>25</th>\n",
       "      <td>Dortmund</td>\n",
       "      <td>Paris S-G</td>\n",
       "      <td>2</td>\n",
       "    </tr>\n",
       "    <tr>\n",
       "      <th>26</th>\n",
       "      <td>Paris S-G</td>\n",
       "      <td>Dortmund</td>\n",
       "      <td>1</td>\n",
       "    </tr>\n",
       "    <tr>\n",
       "      <th>27</th>\n",
       "      <td>Real Madrid</td>\n",
       "      <td>Bayern Munich</td>\n",
       "      <td>1</td>\n",
       "    </tr>\n",
       "  </tbody>\n",
       "</table>\n",
       "</div>"
      ],
      "text/plain": [
       "             Home           Away  Simulated_Result\n",
       "24  Bayern Munich    Real Madrid                 1\n",
       "25       Dortmund      Paris S-G                 2\n",
       "26      Paris S-G       Dortmund                 1\n",
       "27    Real Madrid  Bayern Munich                 1"
      ]
     },
     "execution_count": 14,
     "metadata": {},
     "output_type": "execute_result"
    }
   ],
   "source": [
    "import numpy as np\n",
    "\n",
    "# Función para simular un resultado de partido basado en la matriz de transición\n",
    "def simulate_match(last_result):\n",
    "    # Elegir el próximo resultado basado en las probabilidades de la matriz de transición\n",
    "    return np.random.choice([0, 1, 2], p=transition_matrix[last_result])\n",
    "\n",
    "# Aplicar la simulación para cada partido no jugado\n",
    "# Asignar el último resultado conocido de cada equipo involucrado y simular el resultado\n",
    "unplayed_matches['Simulated_Result'] = unplayed_matches.apply(lambda row: simulate_match(played_data[played_data['Home'] == row['Home']]['Result'].iloc[-1]\n",
    "    if played_data[played_data['Home'] == row['Home']]['Result'].any()\n",
    "    else played_data[played_data['Away'] == row['Home']]['Result'].iloc[-1]\n",
    "    if played_data[played_data['Away'] == row['Home']]['Result'].any()\n",
    "    else 1), axis=1)  # Default to 1 (home win) if no previous matches found\n",
    "\n",
    "unplayed_matches[['Home', 'Away', 'Simulated_Result']]\n"
   ]
  },
  {
   "cell_type": "markdown",
   "metadata": {},
   "source": [
    "Para simular hasta la final y determinar el ganador de la Champions League, necesitaremos continuar con las simulaciones de partidos sucesivos basándonos en los resultados de las simulaciones actuales y los partidos ya jugados. Esto implicará simular las etapas de cuartos de final, semifinales y la final.\n",
    "\n",
    "Voy a proceder a simular estos partidos sucesivos, asumiendo una estructura de torneo simple (sin considerar sorteo de emparejamientos), donde los ganadores de cada partido enfrentan al siguiente ganador en la lista. Después de simular todos los partidos, podremos determinar el ganador final."
   ]
  },
  {
   "cell_type": "code",
   "execution_count": 15,
   "metadata": {},
   "outputs": [
    {
     "data": {
      "text/plain": [
       "(array(['Bayern Munich', 'Paris S-G', 'Paris S-G', 'Real Madrid'],\n",
       "       dtype=object),\n",
       " [2, 1],\n",
       " 'Final Winner: Home')"
      ]
     },
     "execution_count": 15,
     "metadata": {},
     "output_type": "execute_result"
    }
   ],
   "source": [
    "# Supongamos que tenemos la siguiente secuencia de partidos para simplificar la simulación\n",
    "# Los índices indican los equipos que ya hemos simulado y que avanzan a la siguiente ronda\n",
    "simulated_matches = unplayed_matches[['Home', 'Away', 'Simulated_Result']].copy()\n",
    "\n",
    "# Supongamos que estos equipos avanzan de acuerdo a los resultados simulados\n",
    "def get_winner(row):\n",
    "    if row['Simulated_Result'] == 1:  # Victoria local\n",
    "        return row['Home']\n",
    "    elif row['Simulated_Result'] == 2:  # Victoria visitante\n",
    "        return row['Away']\n",
    "    else:  # Empate, asumiremos ganador local para avanzar\n",
    "        return row['Home']\n",
    "\n",
    "# Determinar los equipos que avanzan a la siguiente ronda\n",
    "simulated_matches['Winner'] = simulated_matches.apply(get_winner, axis=1)\n",
    "\n",
    "# Simulación de cuartos de final (tomaremos los primeros cuatro ganadores para esta demostración)\n",
    "quarter_finals = simulated_matches['Winner'].iloc[:4].values\n",
    "\n",
    "# Simulación de semifinales\n",
    "semi_finals = [simulate_match(1) for _ in range(2)]  # Simulamos 2 partidos, asumiendo resultado local\n",
    "\n",
    "# Simulación de la final\n",
    "final_winner = simulate_match(semi_finals[0])  # Simulamos la final, asumiendo resultado basado en primera semi-final\n",
    "\n",
    "# Presentar los equipos en cuartos de final, semifinales y el ganador de la final\n",
    "quarter_finals, semi_finals, \"Final Winner: \" + (\"Home\" if final_winner == 1 else \"Away\" if final_winner == 2 else \"Draw\")\n"
   ]
  },
  {
   "cell_type": "code",
   "execution_count": 16,
   "metadata": {},
   "outputs": [
    {
     "data": {
      "text/plain": [
       "'Dortmund'"
      ]
     },
     "execution_count": 16,
     "metadata": {},
     "output_type": "execute_result"
    }
   ],
   "source": [
    "# Identificar el equipo visitante en la última simulación realizada como el ganador final\n",
    "# Considerando la segunda semifinal, donde la victoria fue para el equipo visitante\n",
    "final_winner_team = simulated_matches['Away'].iloc[semi_finals[1]] if semi_finals[1] == 2 else simulated_matches['Home'].iloc[semi_finals[1]]\n",
    "final_winner_team\n"
   ]
  }
 ],
 "metadata": {
  "kernelspec": {
   "display_name": "base",
   "language": "python",
   "name": "python3"
  },
  "language_info": {
   "codemirror_mode": {
    "name": "ipython",
    "version": 3
   },
   "file_extension": ".py",
   "mimetype": "text/x-python",
   "name": "python",
   "nbconvert_exporter": "python",
   "pygments_lexer": "ipython3",
   "version": "3.11.5"
  }
 },
 "nbformat": 4,
 "nbformat_minor": 2
}
