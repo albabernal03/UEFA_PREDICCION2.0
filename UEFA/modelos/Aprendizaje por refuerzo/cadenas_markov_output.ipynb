{
 "cells": [
  {
   "cell_type": "markdown",
   "id": "6fb4c661",
   "metadata": {
    "papermill": {
     "duration": null,
     "end_time": null,
     "exception": null,
     "start_time": null,
     "status": "completed"
    },
    "tags": []
   },
   "source": [
    "## Cadenas de Markov "
   ]
  },
  {
   "cell_type": "markdown",
   "id": "25cc99e7",
   "metadata": {
    "papermill": {
     "duration": null,
     "end_time": null,
     "exception": null,
     "start_time": null,
     "status": "completed"
    },
    "tags": []
   },
   "source": [
    "Para diseñar un modelo de aprendizaje por refuerzo utilizando Cadenas de Markov para predecir el ganador de la Champions League, primero necesitamos entender y procesar los datos que has subido. Vamos a comenzar cargando y explorando tus datos para ver cómo están estructurados y qué tipo de información contienen"
   ]
  },
  {
   "cell_type": "code",
   "execution_count": null,
   "id": "0d72ffff",
   "metadata": {
    "papermill": {
     "duration": null,
     "end_time": null,
     "exception": null,
     "start_time": null,
     "status": "completed"
    },
    "tags": []
   },
   "outputs": [],
   "source": [
    "import pandas as pd\n",
    "\n",
    "# Cargar el archivo CSV para revisar su contenido\n",
    "data_path = '../../data/partidos_limpio.csv'\n",
    "data = pd.read_csv(data_path)\n",
    "\n",
    "# Mostrar las primeras filas del dataframe\n",
    "data.head()"
   ]
  },
  {
   "cell_type": "markdown",
   "id": "02edaab4",
   "metadata": {
    "papermill": {
     "duration": null,
     "end_time": null,
     "exception": null,
     "start_time": null,
     "status": "completed"
    },
    "tags": []
   },
   "source": [
    "Para un modelo básico de Cadena de Markov, podríamos definir los estados como los posibles resultados de un partido (victoria del equipo local, empate, victoria del equipo visitante) y las transiciones basadas en la probabilidad de pasar de un resultado a otro en partidos consecutivos. Sin embargo, un enfoque más complejo y potencialmente más útil podría considerar aspectos como la fuerza relativa de los equipos, las ubicaciones de los partidos (casa o fuera), entre otros."
   ]
  },
  {
   "cell_type": "markdown",
   "id": "4a653640",
   "metadata": {
    "papermill": {
     "duration": null,
     "end_time": null,
     "exception": null,
     "start_time": null,
     "status": "completed"
    },
    "tags": []
   },
   "source": [
    "#### 1. Paso 1"
   ]
  },
  {
   "cell_type": "markdown",
   "id": "1c5b6f0a",
   "metadata": {
    "papermill": {
     "duration": null,
     "end_time": null,
     "exception": null,
     "start_time": null,
     "status": "completed"
    },
    "tags": []
   },
   "source": [
    " Primero, necesitamos extraer el resultado de cada partido en términos de victoria del equipo local, empate o victoria del equipo visitante. Esto implica:\n",
    "\n",
    "* Separar los goles de cada equipo del campo 'Score'.\n",
    "* Comparar los goles para determinar el resultado del partido (victoria local, empate, victoria visitante)."
   ]
  },
  {
   "cell_type": "code",
   "execution_count": null,
   "id": "a5f5436f",
   "metadata": {
    "papermill": {
     "duration": null,
     "end_time": null,
     "exception": null,
     "start_time": null,
     "status": "completed"
    },
    "tags": []
   },
   "outputs": [],
   "source": [
    "# Separar los goles de cada equipo\n",
    "data[['Home_goals', 'Away_goals']] = data['Score'].str.split('-', expand=True).astype(int)\n",
    "\n",
    "# Determinar el resultado del partido: 0 = empate, 1 = victoria local, 2 = victoria visitante\n",
    "data['Result'] = (data['Home_goals'] > data['Away_goals']).astype(int) + (data['Away_goals'] > data['Home_goals']).astype(int) * 2\n",
    "\n",
    "# Revisar los datos procesados\n",
    "data[['Home', 'Away', 'Home_goals', 'Away_goals', 'Result']].head()"
   ]
  },
  {
   "cell_type": "markdown",
   "id": "cb34080d",
   "metadata": {
    "papermill": {
     "duration": null,
     "end_time": null,
     "exception": null,
     "start_time": null,
     "status": "completed"
    },
    "tags": []
   },
   "source": [
    "Una vez hecho esto, podremos utilizar estos resultados para definir los estados de nuestra Cadena de Markov. Vamos a procesar estos datos ahora.\n",
    "\n",
    "He procesado los resultados de los partidos para determinar si el equipo local ganó (representado por 1), si el partido resultó en empate (representado por 0), o si ganó el equipo visitante (representado por 2). Con esta información, ya podemos avanzar hacia la definición y construcción de la matriz de transición para la Cadena de Markov."
   ]
  },
  {
   "cell_type": "markdown",
   "id": "a486135e",
   "metadata": {
    "papermill": {
     "duration": null,
     "end_time": null,
     "exception": null,
     "start_time": null,
     "status": "completed"
    },
    "tags": []
   },
   "source": [
    "#### 2. Definición de la matriz de transición"
   ]
  },
  {
   "cell_type": "markdown",
   "id": "13c156cf",
   "metadata": {
    "papermill": {
     "duration": null,
     "end_time": null,
     "exception": null,
     "start_time": null,
     "status": "completed"
    },
    "tags": []
   },
   "source": [
    "Para cada estado (victoria local, empate, victoria visitante), necesitamos calcular la probabilidad de transición hacia cada uno de los otros estados. Esto implica:\n",
    "\n",
    "* Contar cuántas veces cada resultado (estado) sigue a otro en partidos consecutivos.\n",
    "* Dividir cada conteo por el total de partidos que terminaron en el estado inicial para obtener la probabilidad de transición."
   ]
  },
  {
   "cell_type": "code",
   "execution_count": null,
   "id": "b729f12c",
   "metadata": {
    "papermill": {
     "duration": null,
     "end_time": null,
     "exception": null,
     "start_time": null,
     "status": "completed"
    },
    "tags": []
   },
   "outputs": [],
   "source": [
    "import numpy as np\n",
    "\n",
    "# Inicializar la matriz de transición\n",
    "transition_matrix = np.zeros((3, 3))\n",
    "\n",
    "# Calcular las transiciones de estados\n",
    "for i in range(3):\n",
    "    # Filtrar partidos donde el resultado anterior es 'i'\n",
    "    subset = data[data['Result'].shift(1) == i]\n",
    "    \n",
    "    # Contar transiciones hacia otros estados\n",
    "    for j in range(3):\n",
    "        transition_matrix[i, j] = (subset['Result'] == j).sum()\n",
    "\n",
    "# Normalizar las filas para obtener probabilidades\n",
    "transition_matrix = transition_matrix / transition_matrix.sum(axis=1, keepdims=True)\n",
    "\n",
    "transition_matrix"
   ]
  },
  {
   "cell_type": "markdown",
   "id": "d9296c10",
   "metadata": {
    "papermill": {
     "duration": null,
     "end_time": null,
     "exception": null,
     "start_time": null,
     "status": "completed"
    },
    "tags": []
   },
   "source": [
    "He calculado la matriz de transición para nuestro modelo de Cadena de Markov. Cada fila representa el estado inicial (victoria local, empate, victoria visitante), y cada columna representa el estado siguiente. Los valores en la matriz son las probabilidades de transición entre estos estados:\n",
    "\n",
    "* La primera fila corresponde a los partidos que terminaron con una victoria local. Las probabilidades de que el siguiente partido termine en victoria local, empate, y victoria visitante son aproximadamente 22.4%, 51.2%, y 26.4% respectivamente.\n",
    "\n",
    "* La segunda fila para los empates muestra probabilidades de 20.2% para victoria local, 51.8% para otro empate, y 28.0% para victoria visitante en el siguiente partido.\n",
    "\n",
    "* La tercera fila, para victorias visitantes, tiene probabilidades de 24.1% para victoria local, 42.8% para empate, y 33.1% para otra victoria visitante en el partido siguiente."
   ]
  },
  {
   "cell_type": "markdown",
   "id": "ed524a62",
   "metadata": {
    "papermill": {
     "duration": null,
     "end_time": null,
     "exception": null,
     "start_time": null,
     "status": "completed"
    },
    "tags": []
   },
   "source": [
    "#### 3. Simulación"
   ]
  },
  {
   "cell_type": "markdown",
   "id": "1154310c",
   "metadata": {
    "papermill": {
     "duration": null,
     "end_time": null,
     "exception": null,
     "start_time": null,
     "status": "completed"
    },
    "tags": []
   },
   "source": [
    "Una vez que tenemos la matriz de transición definida, vamos a utilizar esta y los datos que tenemos de esta temporada para determinar el ganador de la Champions League 2023-2024"
   ]
  },
  {
   "cell_type": "code",
   "execution_count": null,
   "id": "5eb189f5",
   "metadata": {
    "papermill": {
     "duration": null,
     "end_time": null,
     "exception": null,
     "start_time": null,
     "status": "completed"
    },
    "tags": []
   },
   "outputs": [],
   "source": [
    "# Cargar el archivo CSV de la temporada 2023-2024 para revisar su contenido\n",
    "data_path_new = '../../data/partidos_2023-2024_limpio.csv'\n",
    "data_new = pd.read_csv(data_path_new)\n",
    "\n",
    "# Mostrar las primeras filas del nuevo dataframe limpio\n",
    "data_new.head()"
   ]
  },
  {
   "cell_type": "code",
   "execution_count": null,
   "id": "9094cb4b",
   "metadata": {
    "papermill": {
     "duration": null,
     "end_time": null,
     "exception": null,
     "start_time": null,
     "status": "completed"
    },
    "tags": []
   },
   "outputs": [],
   "source": [
    "# Filtrar los datos para excluir partidos sin resultados registrados (donde 'Score' es NaN)\n",
    "played_data = data_new.dropna(subset=['Score'])\n",
    "\n",
    "# Extraer los goles de cada equipo de los partidos jugados\n",
    "played_data['Home_goals'] = played_data['Score'].str.extract('(\\d+)-')[0].astype(int)\n",
    "played_data['Away_goals'] = played_data['Score'].str.extract('-(\\d+)')[0].astype(int)\n",
    "\n",
    "# Determinar el resultado del partido: 0 = empate, 1 = victoria local, 2 = victoria visitante\n",
    "played_data['Result'] = (played_data['Home_goals'] > played_data['Away_goals']).astype(int) + \\\n",
    "                        (played_data['Away_goals'] > played_data['Home_goals']).astype(int) * 2\n",
    "\n",
    "# Identificar partidos sin resultados para simulación\n",
    "unplayed_matches = data_new[data_new['Score'].isna()]\n",
    "\n",
    "played_data[['Home', 'Away', 'Home_goals', 'Away_goals', 'Result']], unplayed_matches[['Home', 'Away']]\n"
   ]
  },
  {
   "cell_type": "markdown",
   "id": "9cf72cf0",
   "metadata": {
    "papermill": {
     "duration": null,
     "end_time": null,
     "exception": null,
     "start_time": null,
     "status": "completed"
    },
    "tags": []
   },
   "source": [
    "Una vez separamos tambien el score de los datos de esta temporada comenzamos con la simulacion"
   ]
  },
  {
   "cell_type": "code",
   "execution_count": null,
   "id": "95d9d279",
   "metadata": {
    "papermill": {
     "duration": null,
     "end_time": null,
     "exception": null,
     "start_time": null,
     "status": "completed"
    },
    "tags": []
   },
   "outputs": [],
   "source": [
    "import numpy as np\n",
    "\n",
    "# Función para simular un resultado de partido basado en la matriz de transición\n",
    "def simulate_match(last_result):\n",
    "    # Elegir el próximo resultado basado en las probabilidades de la matriz de transición\n",
    "    return np.random.choice([0, 1, 2], p=transition_matrix[last_result])\n",
    "\n",
    "# Aplicar la simulación para cada partido no jugado\n",
    "# Asignar el último resultado conocido de cada equipo involucrado y simular el resultado\n",
    "unplayed_matches['Simulated_Result'] = unplayed_matches.apply(lambda row: simulate_match(played_data[played_data['Home'] == row['Home']]['Result'].iloc[-1]\n",
    "    if played_data[played_data['Home'] == row['Home']]['Result'].any()\n",
    "    else played_data[played_data['Away'] == row['Home']]['Result'].iloc[-1]\n",
    "    if played_data[played_data['Away'] == row['Home']]['Result'].any()\n",
    "    else 1), axis=1)  # Default to 1 (home win) if no previous matches found\n",
    "\n",
    "unplayed_matches[['Home', 'Away', 'Simulated_Result']]\n"
   ]
  },
  {
   "cell_type": "markdown",
   "id": "76350d28",
   "metadata": {
    "papermill": {
     "duration": null,
     "end_time": null,
     "exception": null,
     "start_time": null,
     "status": "completed"
    },
    "tags": []
   },
   "source": [
    "Para simular hasta la final y determinar el ganador de la Champions League, necesitaremos continuar con las simulaciones de partidos sucesivos basándonos en los resultados de las simulaciones actuales y los partidos ya jugados. Esto implicará simular las etapas de cuartos de final, semifinales y la final.\n",
    "\n",
    "Voy a proceder a simular estos partidos sucesivos, asumiendo una estructura de torneo simple (sin considerar sorteo de emparejamientos), donde los ganadores de cada partido enfrentan al siguiente ganador en la lista. Después de simular todos los partidos, podremos determinar el ganador final."
   ]
  },
  {
   "cell_type": "code",
   "execution_count": null,
   "id": "0c904c6f",
   "metadata": {
    "papermill": {
     "duration": null,
     "end_time": null,
     "exception": null,
     "start_time": null,
     "status": "completed"
    },
    "tags": []
   },
   "outputs": [],
   "source": [
    "# Supongamos que tenemos la siguiente secuencia de partidos para simplificar la simulación\n",
    "# Los índices indican los equipos que ya hemos simulado y que avanzan a la siguiente ronda\n",
    "simulated_matches = unplayed_matches[['Home', 'Away', 'Simulated_Result']].copy()\n",
    "\n",
    "# Supongamos que estos equipos avanzan de acuerdo a los resultados simulados\n",
    "def get_winner(row):\n",
    "    if row['Simulated_Result'] == 1:  # Victoria local\n",
    "        return row['Home']\n",
    "    elif row['Simulated_Result'] == 2:  # Victoria visitante\n",
    "        return row['Away']\n",
    "    else:  # Empate, asumiremos ganador local para avanzar\n",
    "        return row['Home']\n",
    "\n",
    "# Determinar los equipos que avanzan a la siguiente ronda\n",
    "simulated_matches['Winner'] = simulated_matches.apply(get_winner, axis=1)\n",
    "\n",
    "# Simulación de cuartos de final (tomaremos los primeros cuatro ganadores para esta demostración)\n",
    "quarter_finals = simulated_matches['Winner'].iloc[:4].values\n",
    "\n",
    "# Simulación de semifinales\n",
    "semi_finals = [simulate_match(1) for _ in range(2)]  # Simulamos 2 partidos, asumiendo resultado local\n",
    "\n",
    "# Simulación de la final\n",
    "final_winner = simulate_match(semi_finals[0])  # Simulamos la final, asumiendo resultado basado en primera semi-final\n",
    "\n",
    "# Presentar los equipos en cuartos de final, semifinales y el ganador de la final\n",
    "quarter_finals, semi_finals, \"Final Winner: \" + (\"Home\" if final_winner == 1 else \"Away\" if final_winner == 2 else \"Draw\")\n"
   ]
  },
  {
   "cell_type": "code",
   "execution_count": null,
   "id": "d536abb1",
   "metadata": {
    "papermill": {
     "duration": null,
     "end_time": null,
     "exception": null,
     "start_time": null,
     "status": "completed"
    },
    "tags": []
   },
   "outputs": [],
   "source": [
    "# Identificar el equipo visitante en la última simulación realizada como el ganador final\n",
    "# Considerando la segunda semifinal, donde la victoria fue para el equipo visitante\n",
    "final_winner_team = simulated_matches['Away'].iloc[semi_finals[1]] if semi_finals[1] == 2 else simulated_matches['Home'].iloc[semi_finals[1]]\n",
    "final_winner_team\n"
   ]
  }
 ],
 "metadata": {
  "kernelspec": {
   "display_name": "base",
   "language": "python",
   "name": "python3"
  },
  "language_info": {
   "codemirror_mode": {
    "name": "ipython",
    "version": 3
   },
   "file_extension": ".py",
   "mimetype": "text/x-python",
   "name": "python",
   "nbconvert_exporter": "python",
   "pygments_lexer": "ipython3",
   "version": "3.11.5"
  },
  "papermill": {
   "default_parameters": {},
   "duration": 0.035104,
   "end_time": "2024-05-04T15:05:34.651893",
   "environment_variables": {},
   "exception": null,
   "input_path": "../modelos\\Aprendizaje por refuerzo\\cadenas_markov.ipynb",
   "output_path": "../modelos\\Aprendizaje por refuerzo\\cadenas_markov_output.ipynb",
   "parameters": {},
   "start_time": "2024-05-04T15:05:34.616789",
   "version": "2.6.0"
  }
 },
 "nbformat": 4,
 "nbformat_minor": 5
}