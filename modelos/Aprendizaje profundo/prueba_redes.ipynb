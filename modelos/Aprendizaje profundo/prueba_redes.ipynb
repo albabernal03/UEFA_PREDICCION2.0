{
 "cells": [
  {
   "cell_type": "code",
   "execution_count": 2,
   "metadata": {},
   "outputs": [],
   "source": [
    "import pandas as pd\n",
    "data=pd.read_csv('../data/partidos_limpio.csv')"
   ]
  },
  {
   "cell_type": "code",
   "execution_count": 3,
   "metadata": {},
   "outputs": [
    {
     "data": {
      "text/html": [
       "<div>\n",
       "<style scoped>\n",
       "    .dataframe tbody tr th:only-of-type {\n",
       "        vertical-align: middle;\n",
       "    }\n",
       "\n",
       "    .dataframe tbody tr th {\n",
       "        vertical-align: top;\n",
       "    }\n",
       "\n",
       "    .dataframe thead th {\n",
       "        text-align: right;\n",
       "    }\n",
       "</style>\n",
       "<table border=\"1\" class=\"dataframe\">\n",
       "  <thead>\n",
       "    <tr style=\"text-align: right;\">\n",
       "      <th></th>\n",
       "      <th>Home</th>\n",
       "      <th>Away</th>\n",
       "      <th>Score</th>\n",
       "      <th>Home Goals</th>\n",
       "      <th>Away Goals</th>\n",
       "      <th>Match Result</th>\n",
       "    </tr>\n",
       "  </thead>\n",
       "  <tbody>\n",
       "    <tr>\n",
       "      <th>0</th>\n",
       "      <td>Milan</td>\n",
       "      <td>Tottenham</td>\n",
       "      <td>1-0</td>\n",
       "      <td>1</td>\n",
       "      <td>0</td>\n",
       "      <td>1</td>\n",
       "    </tr>\n",
       "    <tr>\n",
       "      <th>1</th>\n",
       "      <td>Paris S-G</td>\n",
       "      <td>Bayern Munich</td>\n",
       "      <td>0-1</td>\n",
       "      <td>0</td>\n",
       "      <td>1</td>\n",
       "      <td>-1</td>\n",
       "    </tr>\n",
       "    <tr>\n",
       "      <th>2</th>\n",
       "      <td>Club Brugge</td>\n",
       "      <td>Benfica</td>\n",
       "      <td>0-2</td>\n",
       "      <td>0</td>\n",
       "      <td>2</td>\n",
       "      <td>-1</td>\n",
       "    </tr>\n",
       "    <tr>\n",
       "      <th>3</th>\n",
       "      <td>Dortmund</td>\n",
       "      <td>Chelsea</td>\n",
       "      <td>1-0</td>\n",
       "      <td>1</td>\n",
       "      <td>0</td>\n",
       "      <td>1</td>\n",
       "    </tr>\n",
       "    <tr>\n",
       "      <th>4</th>\n",
       "      <td>Liverpool</td>\n",
       "      <td>Real Madrid</td>\n",
       "      <td>2-5</td>\n",
       "      <td>2</td>\n",
       "      <td>5</td>\n",
       "      <td>-1</td>\n",
       "    </tr>\n",
       "  </tbody>\n",
       "</table>\n",
       "</div>"
      ],
      "text/plain": [
       "          Home           Away Score  Home Goals  Away Goals  Match Result\n",
       "0        Milan      Tottenham   1-0           1           0             1\n",
       "1    Paris S-G  Bayern Munich   0-1           0           1            -1\n",
       "2  Club Brugge        Benfica   0-2           0           2            -1\n",
       "3     Dortmund        Chelsea   1-0           1           0             1\n",
       "4    Liverpool    Real Madrid   2-5           2           5            -1"
      ]
     },
     "execution_count": 3,
     "metadata": {},
     "output_type": "execute_result"
    }
   ],
   "source": [
    "# Extracción de goles de local y visitante de la columna 'Score'\n",
    "data['Home Goals'] = data['Score'].apply(lambda x: int(x.split('-')[0].strip()))\n",
    "data['Away Goals'] = data['Score'].apply(lambda x: int(x.split('-')[1].strip()))\n",
    "\n",
    "# Creación de una columna para el resultado del partido\n",
    "# 1 si gana el local, -1 si gana el visitante, 0 si empate\n",
    "data['Match Result'] = data.apply(lambda x: 1 if x['Home Goals'] > x['Away Goals'] else (-1 if x['Home Goals'] < x['Away Goals'] else 0), axis=1)\n",
    "\n",
    "# Vamos a mostrar los cambios y las nuevas columnas\n",
    "data[['Home', 'Away', 'Score', 'Home Goals', 'Away Goals', 'Match Result']].head()\n"
   ]
  },
  {
   "cell_type": "code",
   "execution_count": 4,
   "metadata": {},
   "outputs": [
    {
     "data": {
      "text/plain": [
       "((459, 8), (115, 8), (459,), (115,))"
      ]
     },
     "execution_count": 4,
     "metadata": {},
     "output_type": "execute_result"
    }
   ],
   "source": [
    "from sklearn.preprocessing import LabelEncoder, StandardScaler\n",
    "from sklearn.model_selection import train_test_split\n",
    "\n",
    "# Crear instancias de LabelEncoder\n",
    "encoder = LabelEncoder()\n",
    "\n",
    "# Codificar variables categóricas\n",
    "data['Season_encoded'] = encoder.fit_transform(data['Season'])\n",
    "data['Round_encoded'] = encoder.fit_transform(data['Round'])\n",
    "data['Home_encoded'] = encoder.fit_transform(data['Home'])\n",
    "data['Away_encoded'] = encoder.fit_transform(data['Away'])\n",
    "data['Venue_encoded'] = encoder.fit_transform(data['Venue'])\n",
    "data['Referee_encoded'] = encoder.fit_transform(data['Referee'])\n",
    "\n",
    "# Crear y escalar características numéricas\n",
    "scaler = StandardScaler()\n",
    "scaled_features = scaler.fit_transform(data[['Home Goals', 'Away Goals', 'Season_encoded', 'Round_encoded', 'Home_encoded', 'Away_encoded', 'Venue_encoded', 'Referee_encoded']])\n",
    "\n",
    "# Preparar los datos para el entrenamiento\n",
    "X = scaled_features\n",
    "y = data['Match Result'].values\n",
    "\n",
    "# Dividir los datos en conjuntos de entrenamiento y prueba\n",
    "X_train, X_test, y_train, y_test = train_test_split(X, y, test_size=0.2, random_state=42)\n",
    "\n",
    "X_train.shape, X_test.shape, y_train.shape, y_test.shape\n"
   ]
  },
  {
   "cell_type": "code",
   "execution_count": 5,
   "metadata": {},
   "outputs": [
    {
     "name": "stdout",
     "output_type": "stream",
     "text": [
      "WARNING:tensorflow:From c:\\Users\\albab\\anaconda3\\Lib\\site-packages\\keras\\src\\losses.py:2976: The name tf.losses.sparse_softmax_cross_entropy is deprecated. Please use tf.compat.v1.losses.sparse_softmax_cross_entropy instead.\n",
      "\n",
      "WARNING:tensorflow:From c:\\Users\\albab\\anaconda3\\Lib\\site-packages\\keras\\src\\backend.py:873: The name tf.get_default_graph is deprecated. Please use tf.compat.v1.get_default_graph instead.\n",
      "\n",
      "WARNING:tensorflow:From c:\\Users\\albab\\anaconda3\\Lib\\site-packages\\keras\\src\\optimizers\\__init__.py:309: The name tf.train.Optimizer is deprecated. Please use tf.compat.v1.train.Optimizer instead.\n",
      "\n",
      "WARNING:tensorflow:From c:\\Users\\albab\\anaconda3\\Lib\\site-packages\\keras\\src\\utils\\tf_utils.py:492: The name tf.ragged.RaggedTensorValue is deprecated. Please use tf.compat.v1.ragged.RaggedTensorValue instead.\n",
      "\n",
      "WARNING:tensorflow:From c:\\Users\\albab\\anaconda3\\Lib\\site-packages\\keras\\src\\engine\\base_layer_utils.py:384: The name tf.executing_eagerly_outside_functions is deprecated. Please use tf.compat.v1.executing_eagerly_outside_functions instead.\n",
      "\n"
     ]
    },
    {
     "data": {
      "text/plain": [
       "(0.014033171348273754, 0.643478274345398)"
      ]
     },
     "execution_count": 5,
     "metadata": {},
     "output_type": "execute_result"
    }
   ],
   "source": [
    "from tensorflow.keras.models import Sequential\n",
    "from tensorflow.keras.layers import Dense\n",
    "\n",
    "# Construir el modelo de red neuronal\n",
    "model = Sequential([\n",
    "    Dense(64, input_dim=X_train.shape[1], activation='relu'),\n",
    "    Dense(32, activation='relu'),\n",
    "    Dense(16, activation='relu'),\n",
    "    Dense(1, activation='linear')  # Utilizamos activación lineal para una clasificación simple\n",
    "])\n",
    "\n",
    "# Compilar el modelo\n",
    "model.compile(optimizer='adam', loss='mean_squared_error', metrics=['accuracy'])\n",
    "\n",
    "# Entrenar el modelo\n",
    "history = model.fit(X_train, y_train, epochs=50, batch_size=10, validation_split=0.2, verbose=0)\n",
    "\n",
    "# Evaluar el modelo en el conjunto de prueba\n",
    "test_loss, test_accuracy = model.evaluate(X_test, y_test, verbose=0)\n",
    "\n",
    "test_loss, test_accuracy\n"
   ]
  }
 ],
 "metadata": {
  "kernelspec": {
   "display_name": "base",
   "language": "python",
   "name": "python3"
  },
  "language_info": {
   "codemirror_mode": {
    "name": "ipython",
    "version": 3
   },
   "file_extension": ".py",
   "mimetype": "text/x-python",
   "name": "python",
   "nbconvert_exporter": "python",
   "pygments_lexer": "ipython3",
   "version": "3.11.5"
  }
 },
 "nbformat": 4,
 "nbformat_minor": 2
}
