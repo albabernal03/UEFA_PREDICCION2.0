{
 "cells": [
  {
   "cell_type": "markdown",
   "metadata": {},
   "source": [
    "## Cadenas de Markov "
   ]
  },
  {
   "cell_type": "markdown",
   "metadata": {},
   "source": [
    "Para diseñar un modelo de aprendizaje por refuerzo utilizando Cadenas de Markov para predecir el ganador de la Champions League, primero necesitamos entender y procesar los datos que has subido. Vamos a comenzar cargando y explorando tus datos para ver cómo están estructurados y qué tipo de información contienen"
   ]
  },
  {
   "cell_type": "code",
   "execution_count": 2,
   "metadata": {},
   "outputs": [
    {
     "data": {
      "text/html": [
       "<div>\n",
       "<style scoped>\n",
       "    .dataframe tbody tr th:only-of-type {\n",
       "        vertical-align: middle;\n",
       "    }\n",
       "\n",
       "    .dataframe tbody tr th {\n",
       "        vertical-align: top;\n",
       "    }\n",
       "\n",
       "    .dataframe thead th {\n",
       "        text-align: right;\n",
       "    }\n",
       "</style>\n",
       "<table border=\"1\" class=\"dataframe\">\n",
       "  <thead>\n",
       "    <tr style=\"text-align: right;\">\n",
       "      <th></th>\n",
       "      <th>Season</th>\n",
       "      <th>Round</th>\n",
       "      <th>Day</th>\n",
       "      <th>Date</th>\n",
       "      <th>Home</th>\n",
       "      <th>Score</th>\n",
       "      <th>Away</th>\n",
       "      <th>Venue</th>\n",
       "      <th>Referee</th>\n",
       "    </tr>\n",
       "  </thead>\n",
       "  <tbody>\n",
       "    <tr>\n",
       "      <th>0</th>\n",
       "      <td>2022-2023</td>\n",
       "      <td>Round of 16</td>\n",
       "      <td>Tue</td>\n",
       "      <td>2023-02-14</td>\n",
       "      <td>Milan</td>\n",
       "      <td>1-0</td>\n",
       "      <td>Tottenham</td>\n",
       "      <td>Stadio Giuseppe Meazza</td>\n",
       "      <td>Sandro Schärer</td>\n",
       "    </tr>\n",
       "    <tr>\n",
       "      <th>1</th>\n",
       "      <td>2022-2023</td>\n",
       "      <td>Round of 16</td>\n",
       "      <td>Tue</td>\n",
       "      <td>2023-02-14</td>\n",
       "      <td>Paris S-G</td>\n",
       "      <td>0-1</td>\n",
       "      <td>Bayern Munich</td>\n",
       "      <td>Parc des Princes</td>\n",
       "      <td>Michael Oliver</td>\n",
       "    </tr>\n",
       "    <tr>\n",
       "      <th>2</th>\n",
       "      <td>2022-2023</td>\n",
       "      <td>Round of 16</td>\n",
       "      <td>Wed</td>\n",
       "      <td>2023-02-15</td>\n",
       "      <td>Club Brugge</td>\n",
       "      <td>0-2</td>\n",
       "      <td>Benfica</td>\n",
       "      <td>Jan Breydelstadion</td>\n",
       "      <td>Davide Massa</td>\n",
       "    </tr>\n",
       "    <tr>\n",
       "      <th>3</th>\n",
       "      <td>2022-2023</td>\n",
       "      <td>Round of 16</td>\n",
       "      <td>Wed</td>\n",
       "      <td>2023-02-15</td>\n",
       "      <td>Dortmund</td>\n",
       "      <td>1-0</td>\n",
       "      <td>Chelsea</td>\n",
       "      <td>Signal Iduna Park</td>\n",
       "      <td>Jesús Gil</td>\n",
       "    </tr>\n",
       "    <tr>\n",
       "      <th>4</th>\n",
       "      <td>2022-2023</td>\n",
       "      <td>Round of 16</td>\n",
       "      <td>Tue</td>\n",
       "      <td>2023-02-21</td>\n",
       "      <td>Liverpool</td>\n",
       "      <td>2-5</td>\n",
       "      <td>Real Madrid</td>\n",
       "      <td>Anfield</td>\n",
       "      <td>István Kovács</td>\n",
       "    </tr>\n",
       "  </tbody>\n",
       "</table>\n",
       "</div>"
      ],
      "text/plain": [
       "      Season        Round  Day        Date         Home Score           Away  \\\n",
       "0  2022-2023  Round of 16  Tue  2023-02-14        Milan   1-0      Tottenham   \n",
       "1  2022-2023  Round of 16  Tue  2023-02-14    Paris S-G   0-1  Bayern Munich   \n",
       "2  2022-2023  Round of 16  Wed  2023-02-15  Club Brugge   0-2        Benfica   \n",
       "3  2022-2023  Round of 16  Wed  2023-02-15     Dortmund   1-0        Chelsea   \n",
       "4  2022-2023  Round of 16  Tue  2023-02-21    Liverpool   2-5    Real Madrid   \n",
       "\n",
       "                    Venue         Referee  \n",
       "0  Stadio Giuseppe Meazza  Sandro Schärer  \n",
       "1        Parc des Princes  Michael Oliver  \n",
       "2      Jan Breydelstadion    Davide Massa  \n",
       "3       Signal Iduna Park       Jesús Gil  \n",
       "4                 Anfield   István Kovács  "
      ]
     },
     "execution_count": 2,
     "metadata": {},
     "output_type": "execute_result"
    }
   ],
   "source": [
    "import pandas as pd\n",
    "\n",
    "# Cargar el archivo CSV para revisar su contenido\n",
    "data_path = '../../data/partidos_limpio.csv'\n",
    "data = pd.read_csv(data_path)\n",
    "\n",
    "# Mostrar las primeras filas del dataframe\n",
    "data.head()"
   ]
  },
  {
   "cell_type": "markdown",
   "metadata": {},
   "source": [
    "Para un modelo básico de Cadena de Markov, podríamos definir los estados como los posibles resultados de un partido (victoria del equipo local, empate, victoria del equipo visitante) y las transiciones basadas en la probabilidad de pasar de un resultado a otro en partidos consecutivos. Sin embargo, un enfoque más complejo y potencialmente más útil podría considerar aspectos como la fuerza relativa de los equipos, las ubicaciones de los partidos (casa o fuera), entre otros."
   ]
  },
  {
   "cell_type": "markdown",
   "metadata": {},
   "source": [
    "#### 1. Paso 1"
   ]
  },
  {
   "cell_type": "markdown",
   "metadata": {},
   "source": [
    " Primero, necesitamos extraer el resultado de cada partido en términos de victoria del equipo local, empate o victoria del equipo visitante. Esto implica:\n",
    "\n",
    "* Separar los goles de cada equipo del campo 'Score'.\n",
    "* Comparar los goles para determinar el resultado del partido (victoria local, empate, victoria visitante)."
   ]
  },
  {
   "cell_type": "code",
   "execution_count": 3,
   "metadata": {},
   "outputs": [
    {
     "data": {
      "text/html": [
       "<div>\n",
       "<style scoped>\n",
       "    .dataframe tbody tr th:only-of-type {\n",
       "        vertical-align: middle;\n",
       "    }\n",
       "\n",
       "    .dataframe tbody tr th {\n",
       "        vertical-align: top;\n",
       "    }\n",
       "\n",
       "    .dataframe thead th {\n",
       "        text-align: right;\n",
       "    }\n",
       "</style>\n",
       "<table border=\"1\" class=\"dataframe\">\n",
       "  <thead>\n",
       "    <tr style=\"text-align: right;\">\n",
       "      <th></th>\n",
       "      <th>Home</th>\n",
       "      <th>Away</th>\n",
       "      <th>Home_goals</th>\n",
       "      <th>Away_goals</th>\n",
       "      <th>Result</th>\n",
       "    </tr>\n",
       "  </thead>\n",
       "  <tbody>\n",
       "    <tr>\n",
       "      <th>0</th>\n",
       "      <td>Milan</td>\n",
       "      <td>Tottenham</td>\n",
       "      <td>1</td>\n",
       "      <td>0</td>\n",
       "      <td>1</td>\n",
       "    </tr>\n",
       "    <tr>\n",
       "      <th>1</th>\n",
       "      <td>Paris S-G</td>\n",
       "      <td>Bayern Munich</td>\n",
       "      <td>0</td>\n",
       "      <td>1</td>\n",
       "      <td>2</td>\n",
       "    </tr>\n",
       "    <tr>\n",
       "      <th>2</th>\n",
       "      <td>Club Brugge</td>\n",
       "      <td>Benfica</td>\n",
       "      <td>0</td>\n",
       "      <td>2</td>\n",
       "      <td>2</td>\n",
       "    </tr>\n",
       "    <tr>\n",
       "      <th>3</th>\n",
       "      <td>Dortmund</td>\n",
       "      <td>Chelsea</td>\n",
       "      <td>1</td>\n",
       "      <td>0</td>\n",
       "      <td>1</td>\n",
       "    </tr>\n",
       "    <tr>\n",
       "      <th>4</th>\n",
       "      <td>Liverpool</td>\n",
       "      <td>Real Madrid</td>\n",
       "      <td>2</td>\n",
       "      <td>5</td>\n",
       "      <td>2</td>\n",
       "    </tr>\n",
       "  </tbody>\n",
       "</table>\n",
       "</div>"
      ],
      "text/plain": [
       "          Home           Away  Home_goals  Away_goals  Result\n",
       "0        Milan      Tottenham           1           0       1\n",
       "1    Paris S-G  Bayern Munich           0           1       2\n",
       "2  Club Brugge        Benfica           0           2       2\n",
       "3     Dortmund        Chelsea           1           0       1\n",
       "4    Liverpool    Real Madrid           2           5       2"
      ]
     },
     "execution_count": 3,
     "metadata": {},
     "output_type": "execute_result"
    }
   ],
   "source": [
    "# Separar los goles de cada equipo\n",
    "data[['Home_goals', 'Away_goals']] = data['Score'].str.split('-', expand=True).astype(int)\n",
    "\n",
    "# Determinar el resultado del partido: 0 = empate, 1 = victoria local, 2 = victoria visitante\n",
    "data['Result'] = (data['Home_goals'] > data['Away_goals']).astype(int) + (data['Away_goals'] > data['Home_goals']).astype(int) * 2\n",
    "\n",
    "# Revisar los datos procesados\n",
    "data[['Home', 'Away', 'Home_goals', 'Away_goals', 'Result']].head()"
   ]
  },
  {
   "cell_type": "markdown",
   "metadata": {},
   "source": [
    "Una vez hecho esto, podremos utilizar estos resultados para definir los estados de nuestra Cadena de Markov. Vamos a procesar estos datos ahora.\n",
    "\n",
    "He procesado los resultados de los partidos para determinar si el equipo local ganó (representado por 1), si el partido resultó en empate (representado por 0), o si ganó el equipo visitante (representado por 2). Con esta información, ya podemos avanzar hacia la definición y construcción de la matriz de transición para la Cadena de Markov."
   ]
  },
  {
   "cell_type": "markdown",
   "metadata": {},
   "source": [
    "#### 2. Definición de la matriz de transición"
   ]
  },
  {
   "cell_type": "markdown",
   "metadata": {},
   "source": [
    "Para cada estado (victoria local, empate, victoria visitante), necesitamos calcular la probabilidad de transición hacia cada uno de los otros estados. Esto implica:\n",
    "\n",
    "* Contar cuántas veces cada resultado (estado) sigue a otro en partidos consecutivos.\n",
    "* Dividir cada conteo por el total de partidos que terminaron en el estado inicial para obtener la probabilidad de transición."
   ]
  },
  {
   "cell_type": "code",
   "execution_count": 4,
   "metadata": {},
   "outputs": [
    {
     "data": {
      "text/plain": [
       "array([[0.224     , 0.512     , 0.264     ],\n",
       "       [0.20212766, 0.5177305 , 0.28014184],\n",
       "       [0.24096386, 0.42771084, 0.3313253 ]])"
      ]
     },
     "execution_count": 4,
     "metadata": {},
     "output_type": "execute_result"
    }
   ],
   "source": [
    "import numpy as np\n",
    "\n",
    "# Inicializar la matriz de transición\n",
    "transition_matrix = np.zeros((3, 3))\n",
    "\n",
    "# Calcular las transiciones de estados\n",
    "for i in range(3):\n",
    "    # Filtrar partidos donde el resultado anterior es 'i'\n",
    "    subset = data[data['Result'].shift(1) == i]\n",
    "    \n",
    "    # Contar transiciones hacia otros estados\n",
    "    for j in range(3):\n",
    "        transition_matrix[i, j] = (subset['Result'] == j).sum()\n",
    "\n",
    "# Normalizar las filas para obtener probabilidades\n",
    "transition_matrix = transition_matrix / transition_matrix.sum(axis=1, keepdims=True)\n",
    "\n",
    "transition_matrix"
   ]
  },
  {
   "cell_type": "markdown",
   "metadata": {},
   "source": [
    "He calculado la matriz de transición para nuestro modelo de Cadena de Markov. Cada fila representa el estado inicial (victoria local, empate, victoria visitante), y cada columna representa el estado siguiente. Los valores en la matriz son las probabilidades de transición entre estos estados:\n",
    "\n",
    "* La primera fila corresponde a los partidos que terminaron con una victoria local. Las probabilidades de que el siguiente partido termine en victoria local, empate, y victoria visitante son aproximadamente 22.4%, 51.2%, y 26.4% respectivamente.\n",
    "\n",
    "* La segunda fila para los empates muestra probabilidades de 20.2% para victoria local, 51.8% para otro empate, y 28.0% para victoria visitante en el siguiente partido.\n",
    "\n",
    "* La tercera fila, para victorias visitantes, tiene probabilidades de 24.1% para victoria local, 42.8% para empate, y 33.1% para otra victoria visitante en el partido siguiente."
   ]
  },
  {
   "cell_type": "markdown",
   "metadata": {},
   "source": [
    "#### 3. Simulación"
   ]
  },
  {
   "cell_type": "markdown",
   "metadata": {},
   "source": [
    "Una vez que tenemos la matriz de transición definida, vamos a utilizar esta y los datos que tenemos de esta temporada para determinar el ganador de la Champions League 2023-2024"
   ]
  },
  {
   "cell_type": "code",
   "execution_count": 6,
   "metadata": {},
   "outputs": [
    {
     "data": {
      "text/html": [
       "<div>\n",
       "<style scoped>\n",
       "    .dataframe tbody tr th:only-of-type {\n",
       "        vertical-align: middle;\n",
       "    }\n",
       "\n",
       "    .dataframe tbody tr th {\n",
       "        vertical-align: top;\n",
       "    }\n",
       "\n",
       "    .dataframe thead th {\n",
       "        text-align: right;\n",
       "    }\n",
       "</style>\n",
       "<table border=\"1\" class=\"dataframe\">\n",
       "  <thead>\n",
       "    <tr style=\"text-align: right;\">\n",
       "      <th></th>\n",
       "      <th>Season</th>\n",
       "      <th>Round</th>\n",
       "      <th>Day</th>\n",
       "      <th>Date</th>\n",
       "      <th>Home</th>\n",
       "      <th>Score</th>\n",
       "      <th>Away</th>\n",
       "      <th>Venue</th>\n",
       "      <th>Referee</th>\n",
       "    </tr>\n",
       "  </thead>\n",
       "  <tbody>\n",
       "    <tr>\n",
       "      <th>0</th>\n",
       "      <td>2023-2024</td>\n",
       "      <td>Round of 16</td>\n",
       "      <td>Tue</td>\n",
       "      <td>2024-02-13</td>\n",
       "      <td>RB Leipzig</td>\n",
       "      <td>0-1</td>\n",
       "      <td>Real Madrid</td>\n",
       "      <td>Red Bull Arena</td>\n",
       "      <td>Irfan Peljto</td>\n",
       "    </tr>\n",
       "    <tr>\n",
       "      <th>1</th>\n",
       "      <td>2023-2024</td>\n",
       "      <td>Round of 16</td>\n",
       "      <td>Tue</td>\n",
       "      <td>2024-02-13</td>\n",
       "      <td>FC Copenhagen</td>\n",
       "      <td>1-3</td>\n",
       "      <td>Manchester City</td>\n",
       "      <td>Parken</td>\n",
       "      <td>José Sánchez</td>\n",
       "    </tr>\n",
       "    <tr>\n",
       "      <th>2</th>\n",
       "      <td>2023-2024</td>\n",
       "      <td>Round of 16</td>\n",
       "      <td>Wed</td>\n",
       "      <td>2024-02-14</td>\n",
       "      <td>Paris S-G</td>\n",
       "      <td>2-0</td>\n",
       "      <td>Real Sociedad</td>\n",
       "      <td>Parc des Princes</td>\n",
       "      <td>Marco Guida</td>\n",
       "    </tr>\n",
       "    <tr>\n",
       "      <th>3</th>\n",
       "      <td>2023-2024</td>\n",
       "      <td>Round of 16</td>\n",
       "      <td>Wed</td>\n",
       "      <td>2024-02-14</td>\n",
       "      <td>Lazio</td>\n",
       "      <td>1-0</td>\n",
       "      <td>Bayern Munich</td>\n",
       "      <td>Stadio Olimpico</td>\n",
       "      <td>François Letexier</td>\n",
       "    </tr>\n",
       "    <tr>\n",
       "      <th>4</th>\n",
       "      <td>2023-2024</td>\n",
       "      <td>Round of 16</td>\n",
       "      <td>Tue</td>\n",
       "      <td>2024-02-20</td>\n",
       "      <td>PSV Eindhoven</td>\n",
       "      <td>1-1</td>\n",
       "      <td>Dortmund</td>\n",
       "      <td>Philips Stadion</td>\n",
       "      <td>Srđan Jovanović</td>\n",
       "    </tr>\n",
       "  </tbody>\n",
       "</table>\n",
       "</div>"
      ],
      "text/plain": [
       "      Season        Round  Day        Date           Home Score  \\\n",
       "0  2023-2024  Round of 16  Tue  2024-02-13     RB Leipzig   0-1   \n",
       "1  2023-2024  Round of 16  Tue  2024-02-13  FC Copenhagen   1-3   \n",
       "2  2023-2024  Round of 16  Wed  2024-02-14      Paris S-G   2-0   \n",
       "3  2023-2024  Round of 16  Wed  2024-02-14          Lazio   1-0   \n",
       "4  2023-2024  Round of 16  Tue  2024-02-20  PSV Eindhoven   1-1   \n",
       "\n",
       "              Away             Venue            Referee  \n",
       "0      Real Madrid    Red Bull Arena       Irfan Peljto  \n",
       "1  Manchester City            Parken       José Sánchez  \n",
       "2    Real Sociedad  Parc des Princes        Marco Guida  \n",
       "3    Bayern Munich   Stadio Olimpico  François Letexier  \n",
       "4         Dortmund   Philips Stadion    Srđan Jovanović  "
      ]
     },
     "execution_count": 6,
     "metadata": {},
     "output_type": "execute_result"
    }
   ],
   "source": [
    "# Cargar el archivo CSV de la temporada 2023-2024 para revisar su contenido\n",
    "data_path_new = '../../data/partidos_2023-2024_limpio.csv'\n",
    "data_new = pd.read_csv(data_path_new)\n",
    "\n",
    "# Mostrar las primeras filas del nuevo dataframe limpio\n",
    "data_new.head()"
   ]
  },
  {
   "cell_type": "code",
   "execution_count": null,
   "metadata": {},
   "outputs": [],
   "source": [
    "# Filtrar los datos para excluir partidos sin resultados registrados (donde 'Score' es NaN)\n",
    "played_data = data_new.dropna(subset=['Score'])\n",
    "\n",
    "# Extraer los goles de cada equipo de los partidos jugados\n",
    "played_data['Home_goals'] = played_data['Score'].str.extract('(\\d+)-')[0].astype(int)\n",
    "played_data['Away_goals'] = played_data['Score'].str.extract('-(\\d+)')[0].astype(int)\n",
    "\n",
    "# Determinar el resultado del partido: 0 = empate, 1 = victoria local, 2 = victoria visitante\n",
    "played_data['Result'] = (played_data['Home_goals'] > played_data['Away_goals']).astype(int) + \\\n",
    "                        (played_data['Away_goals'] > played_data['Home_goals']).astype(int) * 2\n",
    "\n",
    "# Identificar partidos sin resultados para simulación\n",
    "unplayed_matches = data_new[data_new['Score'].isna()]\n",
    "\n",
    "played_data[['Home', 'Away', 'Home_goals', 'Away_goals', 'Result']], unplayed_matches[['Home', 'Away']]\n"
   ]
  },
  {
   "cell_type": "code",
   "execution_count": 5,
   "metadata": {},
   "outputs": [
    {
     "name": "stderr",
     "output_type": "stream",
     "text": [
      "C:\\Users\\albab\\AppData\\Local\\Temp\\ipykernel_35728\\4096186532.py:6: SettingWithCopyWarning: \n",
      "A value is trying to be set on a copy of a slice from a DataFrame.\n",
      "Try using .loc[row_indexer,col_indexer] = value instead\n",
      "\n",
      "See the caveats in the documentation: https://pandas.pydata.org/pandas-docs/stable/user_guide/indexing.html#returning-a-view-versus-a-copy\n",
      "  cleaned_new_data['Home_goals'] = cleaned_new_data['Score'].str.extract('(\\d+)-')[0].astype(int)\n",
      "C:\\Users\\albab\\AppData\\Local\\Temp\\ipykernel_35728\\4096186532.py:7: SettingWithCopyWarning: \n",
      "A value is trying to be set on a copy of a slice from a DataFrame.\n",
      "Try using .loc[row_indexer,col_indexer] = value instead\n",
      "\n",
      "See the caveats in the documentation: https://pandas.pydata.org/pandas-docs/stable/user_guide/indexing.html#returning-a-view-versus-a-copy\n",
      "  cleaned_new_data['Away_goals'] = cleaned_new_data['Score'].str.extract('-(\\d+)')[0].astype(int)\n",
      "C:\\Users\\albab\\AppData\\Local\\Temp\\ipykernel_35728\\4096186532.py:8: SettingWithCopyWarning: \n",
      "A value is trying to be set on a copy of a slice from a DataFrame.\n",
      "Try using .loc[row_indexer,col_indexer] = value instead\n",
      "\n",
      "See the caveats in the documentation: https://pandas.pydata.org/pandas-docs/stable/user_guide/indexing.html#returning-a-view-versus-a-copy\n",
      "  cleaned_new_data['Result'] = (cleaned_new_data['Home_goals'] > cleaned_new_data['Away_goals']).astype(int) + \\\n"
     ]
    },
    {
     "data": {
      "text/plain": [
       "[('Paris S-G', 12),\n",
       " ('Bayern Munich', 10),\n",
       " ('Dortmund', 10),\n",
       " ('Real Madrid', 9),\n",
       " ('Manchester City', 8),\n",
       " ('Barcelona', 7),\n",
       " ('Atlético Madrid', 6),\n",
       " ('Arsenal', 4),\n",
       " ('Lazio', 3),\n",
       " ('Inter', 3)]"
      ]
     },
     "execution_count": 5,
     "metadata": {},
     "output_type": "execute_result"
    }
   ],
   "source": [
    "# Cargar los datos de la nueva temporada\n",
    "new_data_path = '../../data/partidos_2023-2024_limpio.csv'\n",
    "new_data = pd.read_csv(new_data_path)\n",
    "new_data['Score'] = new_data['Score'].str.replace('–', '-', regex=False)\n",
    "cleaned_new_data = new_data.dropna(subset=['Score'])\n",
    "cleaned_new_data['Home_goals'] = cleaned_new_data['Score'].str.extract('(\\d+)-')[0].astype(int)\n",
    "cleaned_new_data['Away_goals'] = cleaned_new_data['Score'].str.extract('-(\\d+)')[0].astype(int)\n",
    "cleaned_new_data['Result'] = (cleaned_new_data['Home_goals'] > cleaned_new_data['Away_goals']).astype(int) + \\\n",
    "                             (cleaned_new_data['Away_goals'] > cleaned_new_data['Home_goals']).astype(int) * 2\n",
    "\n",
    "# Identificar y simular partidos no jugados\n",
    "unplayed_matches = new_data[new_data['Score'].isna()]\n",
    "simulated_results = []\n",
    "np.random.seed(42)\n",
    "for _, row in unplayed_matches.iterrows():\n",
    "    result = np.random.choice([0, 1, 2], p=transition_matrix[1])\n",
    "    simulated_results.append(result)\n",
    "unplayed_matches = unplayed_matches.assign(Simulated_Result=simulated_results)\n",
    "\n",
    "# Combinar resultados reales y simulados, y calcular puntos\n",
    "full_results = pd.concat([\n",
    "    cleaned_new_data[['Home', 'Away', 'Result']],\n",
    "    unplayed_matches[['Home', 'Away', 'Simulated_Result']].rename(columns={'Simulated_Result': 'Result'})\n",
    "])\n",
    "\n",
    "def calculate_points(df):\n",
    "    points = {}\n",
    "    for _, row in df.iterrows():\n",
    "        home, away, result = row['Home'], row['Away'], row['Result']\n",
    "        if home not in points:\n",
    "            points[home] = 0\n",
    "        if away not in points:\n",
    "            points[away] = 0\n",
    "        if result == 1:\n",
    "            points[home] += 3\n",
    "        elif result == 2:\n",
    "            points[away] += 3\n",
    "        elif result == 0:\n",
    "            points[home] += 1\n",
    "            points[away] += 1\n",
    "    return points\n",
    "\n",
    "points = calculate_points(full_results)\n",
    "sorted_teams = sorted(points.items(), key=lambda x: x[1], reverse=True)\n",
    "sorted_teams[:10]"
   ]
  }
 ],
 "metadata": {
  "kernelspec": {
   "display_name": "base",
   "language": "python",
   "name": "python3"
  },
  "language_info": {
   "codemirror_mode": {
    "name": "ipython",
    "version": 3
   },
   "file_extension": ".py",
   "mimetype": "text/x-python",
   "name": "python",
   "nbconvert_exporter": "python",
   "pygments_lexer": "ipython3",
   "version": "3.11.5"
  }
 },
 "nbformat": 4,
 "nbformat_minor": 2
}
