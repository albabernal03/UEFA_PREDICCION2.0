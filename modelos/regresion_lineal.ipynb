{
 "cells": [
  {
   "cell_type": "markdown",
   "metadata": {},
   "source": [
    "# 1. Análisis exploratorio de datos (EDA)"
   ]
  },
  {
   "cell_type": "markdown",
   "metadata": {},
   "source": [
    "Los datos que tenemos son:\n",
    "1. datos_champions_limpio.csv - Información general sobre la Champions League de distintos años.\n",
    "2. overall_limpio.csv - Información adicional que contine datos de equipos y partidos.\n",
    "3. jugadores_limpio.csv - Datos específicos sobre jugadores."
   ]
  },
  {
   "cell_type": "markdown",
   "metadata": {},
   "source": [
    "### Paso 1: Carga y revisión inicial de los datos"
   ]
  }
 ],
 "metadata": {
  "language_info": {
   "name": "python"
  }
 },
 "nbformat": 4,
 "nbformat_minor": 2
}
