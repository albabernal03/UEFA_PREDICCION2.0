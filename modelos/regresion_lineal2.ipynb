{
 "cells": [
  {
   "cell_type": "markdown",
   "metadata": {},
   "source": [
    "# Modelo de Regresion Lineal"
   ]
  },
  {
   "cell_type": "code",
   "execution_count": 2,
   "metadata": {},
   "outputs": [
    {
     "data": {
      "text/plain": [
       "(   Temporada  #            Jugador        País   Posc           Equipo  Edad  \\\n",
       " 0  2017-2018  1  Vincent Aboubakar     Camerún     DL            Porto  25.0   \n",
       " 1  2017-2018  2       Marcos Acuña   Argentina  DL,DF      Sporting CP  25.0   \n",
       " 2  2017-2018  3   Tosin Adarabioyo  Inglaterra     DF  Manchester City  19.0   \n",
       " 3  2017-2018  4            Adriano      Brasil     DF         Beşiktaş  32.0   \n",
       " 4  2017-2018  5       Luiz Adriano      Brasil  DL,CC   Spartak Moscow  30.0   \n",
       " \n",
       "    Nacimiento  PJ  Titular  ...  Gls90.  Ast90  G+A90  G-TP90  G+A-TP90  xG90  \\\n",
       " 0      1992.0   6      6.0  ...    0.91   0.36   1.27    0.91      1.27  0.51   \n",
       " 1      1991.0   5      5.0  ...    0.00   0.21   0.21    0.00      0.21  0.00   \n",
       " 2      1997.0   2      1.0  ...    0.00   0.00   0.00    0.00      0.00  0.00   \n",
       " 3      1984.0   6      5.0  ...    0.00   0.00   0.00    0.00      0.00  0.01   \n",
       " 4      1987.0   6      6.0  ...    0.17   0.00   0.17    0.17      0.17  0.16   \n",
       " \n",
       "    xAG90  xG+xAG90  npxG90  npxG+xAG90  \n",
       " 0   0.19      0.70    0.51        0.70  \n",
       " 1   0.11      0.11    0.00        0.11  \n",
       " 2   0.00      0.00    0.00        0.00  \n",
       " 3   0.02      0.03    0.01        0.03  \n",
       " 4   0.15      0.32    0.16        0.32  \n",
       " \n",
       " [5 rows x 37 columns],\n",
       "       Season  Rk            Squad    MP    W    D    L    GF    GA    GD  \\\n",
       " 0  2022-2023   W  Manchester City  13.0  8.0  5.0  0.0  32.0   5.0  27.0   \n",
       " 1  2022-2023   F            Inter  13.0  7.0  3.0  3.0  19.0  11.0   8.0   \n",
       " 2  2022-2023  SF      Real Madrid  12.0  8.0  2.0  2.0  26.0  13.0  13.0   \n",
       " 3  2022-2023  SF            Milan  12.0  5.0  3.0  4.0  15.0  11.0   4.0   \n",
       " 4  2022-2023  QF    Bayern Munich  10.0  8.0  1.0  1.0  22.0   6.0  16.0   \n",
       " \n",
       "     Pts  Attendance                      Top Team Scorer        Goalkeeper  \\\n",
       " 0  29.0     63639.0                       Erling Haaland           Ederson   \n",
       " 1  24.0     71415.0                           Edin Džeko       André Onana   \n",
       " 2  26.0     58761.0                      Vinicius Júnior  Thibaut Courtois   \n",
       " 3  18.0     72546.0                       Olivier Giroud      Mike Maignan   \n",
       " 4  25.0     75000.0  Leroy Sané,Eric Maxim Choupo-Moting       Yann Sommer   \n",
       " \n",
       "    Top Team Scorer Goals  Country  \n",
       " 0                   12.0  England  \n",
       " 1                    4.0    Italy  \n",
       " 2                    7.0    Spain  \n",
       " 3                    5.0    Italy  \n",
       " 4                    4.0  Germany  )"
      ]
     },
     "execution_count": 2,
     "metadata": {},
     "output_type": "execute_result"
    }
   ],
   "source": [
    "#Revisamos los datos de la tabla de la base de datos\n",
    "import pandas as pd\n",
    "\n",
    "# Cargar los datos\n",
    "jugadores_df = pd.read_csv('../data/jugadores_limpio.csv')\n",
    "overall_df = pd.read_csv('../data/overall_limpio.csv')\n",
    "\n",
    "# Visualizar las primeras filas de cada DataFrame para entender su estructura\n",
    "jugadores_df_head = jugadores_df.head()\n",
    "overall_df_head = overall_df.head()\n",
    "\n",
    "jugadores_df_head, overall_df_head"
   ]
  },
  {
   "cell_type": "markdown",
   "metadata": {},
   "source": [
    "#### Datos de los CSV\n",
    "\n",
    "1. **Jugadores (jugadores_limpio.csv)**: Este conjunto de datos contiene información detallada sobre jugadores en temporadas específicas de la Champions League, incluyendo nombre, país, posición, equipo, edad, estadísticas de juego (partidos jugados, titularidad, goles, asistencias, etc.), y métricas avanzadas (goles por 90 minutos, asistencias por 90 minutos, etc.).\n",
    "\n",
    "2. **Equipos (overall_limpio.csv)**: Este conjunto de datos incluye información resumida de equipos en una temporada específica de la Champions League, con detalles como la temporada, el ranking final del equipo, partidos jugados, victorias, derrotas, empates, goles a favor, goles en contra, diferencia de goles, puntos, asistencia, el máximo goleador del equipo, el portero principal y los goles del máximo goleador."
   ]
  },
  {
   "cell_type": "markdown",
   "metadata": {},
   "source": [
    "#### Metodologia\n",
    "Al tratarse de un modelo de Regresión Lineal lo primero que debemos hacer es definir claramente nuestra variable objetivo y las características (variables independientes) que utilizaremos para hacer la predicción. Dado que nuestro objetivo es predecir el ganador, podríamos considerar la posición final del equipo como nuestra variable objetivo, transformándola en una métrica numérica donde el ganador tiene el valor más alto, y las características podrían incluir estadísticas agregadas de equipo y jugador. Sin embargo, un modelo de regresión lineal predice valores continuos, mientras que predecir el ganador es esencialmente una tarea de clasificación (el ganador vs. no ganador). En lugar de predecir directamente el ganador, podríamos modelar la probabilidad de que un equipo alcance cierta fase de la competencia (por ejemplo, la final) o su rendimiento general en términos de puntos o diferencia de goles."
   ]
  }
 ],
 "metadata": {
  "kernelspec": {
   "display_name": "base",
   "language": "python",
   "name": "python3"
  },
  "language_info": {
   "codemirror_mode": {
    "name": "ipython",
    "version": 3
   },
   "file_extension": ".py",
   "mimetype": "text/x-python",
   "name": "python",
   "nbconvert_exporter": "python",
   "pygments_lexer": "ipython3",
   "version": "3.11.5"
  }
 },
 "nbformat": 4,
 "nbformat_minor": 2
}
